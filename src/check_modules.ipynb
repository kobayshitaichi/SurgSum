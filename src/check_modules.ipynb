{
 "cells": [
  {
   "cell_type": "code",
   "execution_count": 1,
   "metadata": {},
   "outputs": [],
   "source": [
    "from libs.config import get_config\n",
    "import pandas as pd\n",
    "from pathlib import Path\n",
    "from tqdm import tqdm\n",
    "import os"
   ]
  },
  {
   "cell_type": "code",
   "execution_count": 2,
   "metadata": {},
   "outputs": [],
   "source": [
    "from logging import getLogger\n",
    "\n",
    "\n",
    "__all__ = [\"get_dataset\"]\n",
    "logger = getLogger(__name__)"
   ]
  },
  {
   "cell_type": "code",
   "execution_count": 3,
   "metadata": {},
   "outputs": [],
   "source": [
    "config = get_config('/mnt/sda1/Summarization/SurgSum/result/model_name=resnet50d/config.yaml')"
   ]
  },
  {
   "attachments": {},
   "cell_type": "markdown",
   "metadata": {},
   "source": [
    "## Create DataFrames"
   ]
  },
  {
   "cell_type": "code",
   "execution_count": 4,
   "metadata": {},
   "outputs": [],
   "source": [
    "csv_path = Path(config.dataset_dir) / \"csv\"\n",
    "dirs = list(csv_path.glob('*csv'))"
   ]
  },
  {
   "cell_type": "code",
   "execution_count": 12,
   "metadata": {},
   "outputs": [
    {
     "name": "stderr",
     "output_type": "stream",
     "text": [
      " 60%|██████    | 3/5 [00:00<00:00, 10.42it/s]"
     ]
    },
    {
     "name": "stdout",
     "output_type": "stream",
     "text": [
      "video00 after subsampling: 4395\n",
      "video01 after subsampling: 1903\n",
      "video02 after subsampling: 3912\n"
     ]
    },
    {
     "name": "stderr",
     "output_type": "stream",
     "text": [
      "100%|██████████| 5/5 [00:00<00:00,  8.53it/s]"
     ]
    },
    {
     "name": "stdout",
     "output_type": "stream",
     "text": [
      "video03 after subsampling: 4896\n",
      "video05 after subsampling: 4206\n"
     ]
    },
    {
     "name": "stderr",
     "output_type": "stream",
     "text": [
      "\n"
     ]
    }
   ],
   "source": [
    "all_df = pd.DataFrame()\n",
    "for i, path in enumerate(tqdm(sorted(dirs))):\n",
    "    file_name = path.stem\n",
    "    # if file_name != 'video01':\n",
    "    #     continue\n",
    "    tmp = pd.read_csv(path)\n",
    "\n",
    "    tmp['video_idx'] = int(file_name[-2:])  \n",
    "    img_path = os.path.join(config.dataset_dir, 'video_split', file_name)\n",
    "    tmp['file_name'] = sorted(os.listdir(img_path)[:len(tmp)])\n",
    "    \n",
    "    if config.val_vid_idx == int(file_name[-2:]):\n",
    "        tmp['stage'] = 'val'\n",
    "        factor = int(30 / config.fps_sampling_test)\n",
    "    else:\n",
    "        tmp['stage'] = 'train'\n",
    "        factor = int(30 / config.fps_sampling)\n",
    "    tmp = tmp.iloc[::factor]\n",
    "    print(f'{file_name} after subsampling: {len(tmp)}')\n",
    "    all_df = pd.concat([all_df, tmp], axis=0)\n"
   ]
  },
  {
   "cell_type": "code",
   "execution_count": 13,
   "metadata": {},
   "outputs": [
    {
     "data": {
      "text/html": [
       "<div>\n",
       "<style scoped>\n",
       "    .dataframe tbody tr th:only-of-type {\n",
       "        vertical-align: middle;\n",
       "    }\n",
       "\n",
       "    .dataframe tbody tr th {\n",
       "        vertical-align: top;\n",
       "    }\n",
       "\n",
       "    .dataframe thead th {\n",
       "        text-align: right;\n",
       "    }\n",
       "</style>\n",
       "<table border=\"1\" class=\"dataframe\">\n",
       "  <thead>\n",
       "    <tr style=\"text-align: right;\">\n",
       "      <th></th>\n",
       "      <th>Frame</th>\n",
       "      <th>time</th>\n",
       "      <th>field</th>\n",
       "      <th>phase</th>\n",
       "      <th>summary</th>\n",
       "      <th>video_idx</th>\n",
       "      <th>file_name</th>\n",
       "      <th>stage</th>\n",
       "    </tr>\n",
       "  </thead>\n",
       "  <tbody>\n",
       "    <tr>\n",
       "      <th>0</th>\n",
       "      <td>0</td>\n",
       "      <td>0:00:00.00</td>\n",
       "      <td>False</td>\n",
       "      <td>irrelevant</td>\n",
       "      <td>0.0</td>\n",
       "      <td>0</td>\n",
       "      <td>video00_000001.png</td>\n",
       "      <td>train</td>\n",
       "    </tr>\n",
       "    <tr>\n",
       "      <th>30</th>\n",
       "      <td>30</td>\n",
       "      <td>0:00:01.00</td>\n",
       "      <td>False</td>\n",
       "      <td>irrelevant</td>\n",
       "      <td>-1.0</td>\n",
       "      <td>0</td>\n",
       "      <td>video00_000031.png</td>\n",
       "      <td>train</td>\n",
       "    </tr>\n",
       "    <tr>\n",
       "      <th>60</th>\n",
       "      <td>60</td>\n",
       "      <td>0:00:02.00</td>\n",
       "      <td>False</td>\n",
       "      <td>irrelevant</td>\n",
       "      <td>-1.0</td>\n",
       "      <td>0</td>\n",
       "      <td>video00_000061.png</td>\n",
       "      <td>train</td>\n",
       "    </tr>\n",
       "    <tr>\n",
       "      <th>90</th>\n",
       "      <td>90</td>\n",
       "      <td>0:00:03.00</td>\n",
       "      <td>False</td>\n",
       "      <td>irrelevant</td>\n",
       "      <td>-1.0</td>\n",
       "      <td>0</td>\n",
       "      <td>video00_000091.png</td>\n",
       "      <td>train</td>\n",
       "    </tr>\n",
       "    <tr>\n",
       "      <th>120</th>\n",
       "      <td>120</td>\n",
       "      <td>0:00:04.00</td>\n",
       "      <td>False</td>\n",
       "      <td>irrelevant</td>\n",
       "      <td>-1.0</td>\n",
       "      <td>0</td>\n",
       "      <td>video00_000121.png</td>\n",
       "      <td>train</td>\n",
       "    </tr>\n",
       "  </tbody>\n",
       "</table>\n",
       "</div>"
      ],
      "text/plain": [
       "     Frame        time  field       phase  summary  video_idx  \\\n",
       "0        0  0:00:00.00  False  irrelevant      0.0          0   \n",
       "30      30  0:00:01.00  False  irrelevant     -1.0          0   \n",
       "60      60  0:00:02.00  False  irrelevant     -1.0          0   \n",
       "90      90  0:00:03.00  False  irrelevant     -1.0          0   \n",
       "120    120  0:00:04.00  False  irrelevant     -1.0          0   \n",
       "\n",
       "              file_name  stage  \n",
       "0    video00_000001.png  train  \n",
       "30   video00_000031.png  train  \n",
       "60   video00_000061.png  train  \n",
       "90   video00_000091.png  train  \n",
       "120  video00_000121.png  train  "
      ]
     },
     "execution_count": 13,
     "metadata": {},
     "output_type": "execute_result"
    }
   ],
   "source": [
    "all_df.head()"
   ]
  },
  {
   "attachments": {},
   "cell_type": "markdown",
   "metadata": {},
   "source": [
    "## dataset"
   ]
  },
  {
   "cell_type": "code",
   "execution_count": 54,
   "metadata": {},
   "outputs": [],
   "source": [
    "from logging import getLogger\n",
    "from typing import Any, Dict, Optional\n",
    "\n",
    "import pandas as pd\n",
    "import torch\n",
    "from PIL import Image\n",
    "from torch.utils.data import Dataset\n",
    "import numpy as np\n",
    "import torchvision.transforms as T\n",
    "import albumentations as A\n",
    "from albumentations.pytorch import ToTensorV2\n",
    "import os\n",
    "\n",
    "__all__ = [\"get_dataloader\"]\n",
    "\n",
    "logger = getLogger(__name__)\n",
    "\n",
    "\n",
    "class ExtractorDataset(torch.utils.data.Dataset):\n",
    "    def __init__(self, df, config, stage=\"train\"):\n",
    "        self.stage = stage\n",
    "        self.df = df\n",
    "        self.df = self.df[self.df[\"stage\"] == self.stage]\n",
    "        self.config = config\n",
    "        self.class_labels = self.get_labels()\n",
    "\n",
    "    def __getitem__(self, index):\n",
    "        row = self.df.iloc[index]\n",
    "        video_name = \"video\" + str(row.video_idx).zfill(2)\n",
    "        data_path = os.path.join(self.config.dataset_dir, \"video_split\", video_name, row.file_name)\n",
    "        img = Image.open(data_path)\n",
    "        img = np.array(img)\n",
    "        if self.stage == 'train':\n",
    "            img = self.transform()(image=img)[\"image\"]\n",
    "        label = torch.tensor(self.class_labels[row.phase])\n",
    "\n",
    "        return img.float(), label.float()\n",
    "        \n",
    "\n",
    "\n",
    "    def __len__(self):\n",
    "        return len(self.df)\n",
    "    \n",
    "    def get_labels(self):\n",
    "        class_labels = {}\n",
    "        for i,label in enumerate(self.df.phase.unique()):\n",
    "            class_labels[label] = i\n",
    "            print(label, i)\n",
    "        return class_labels\n",
    "\n",
    "    def transform(self):\n",
    "        transforms = [\n",
    "                A.Normalize(mean=(0,0,0), std=(1,1,1)),\n",
    "        ]\n",
    "        \n",
    "        if self.stage == 'train':\n",
    "            if self.config.aug_ver == 1:\n",
    "                transforms += [\n",
    "                A.RandomResizedCrop(always_apply=False, p=1.0, height=self.img_size, width=self.img_size, scale=(0.7, 1.2), ratio=(0.75, 1.3), interpolation=1),\n",
    "                A.HorizontalFlip(p=0.5),\n",
    "                A.VerticalFlip(p=0.5),\n",
    "                ]\n",
    "            elif self.config.aug_ver == 2:\n",
    "                transforms += [\n",
    "                    A.HorizontalFlip(p=0.3),\n",
    "                    A.VerticalFlip(p=0.3),\n",
    "                ]\n",
    "            \n",
    "        transforms.append(ToTensorV2(p=1))\n",
    "\n",
    "        return A.Compose(transforms)\n"
   ]
  },
  {
   "cell_type": "code",
   "execution_count": 55,
   "metadata": {},
   "outputs": [
    {
     "name": "stdout",
     "output_type": "stream",
     "text": [
      "irrelevant 0\n",
      "design 1\n",
      "anesthesia 2\n",
      "incision 3\n",
      "hemostasis 4\n",
      "dissection 5\n",
      "closure 6\n",
      "others 7\n"
     ]
    }
   ],
   "source": [
    "ds = ExtractorDataset(all_df, config, 'train')"
   ]
  },
  {
   "cell_type": "code",
   "execution_count": 56,
   "metadata": {},
   "outputs": [],
   "source": [
    "img, label = ds.__getitem__(0)"
   ]
  },
  {
   "cell_type": "code",
   "execution_count": 57,
   "metadata": {},
   "outputs": [
    {
     "data": {
      "text/plain": [
       "torch.Size([3, 250, 250])"
      ]
     },
     "execution_count": 57,
     "metadata": {},
     "output_type": "execute_result"
    }
   ],
   "source": [
    "img.shape"
   ]
  },
  {
   "cell_type": "code",
   "execution_count": 58,
   "metadata": {},
   "outputs": [
    {
     "data": {
      "text/plain": [
       "tensor(0.)"
      ]
     },
     "execution_count": 58,
     "metadata": {},
     "output_type": "execute_result"
    }
   ],
   "source": [
    "label"
   ]
  },
  {
   "cell_type": "code",
   "execution_count": 35,
   "metadata": {},
   "outputs": [
    {
     "data": {
      "text/plain": [
       "array(['irrelevant', 'design', 'anesthesia', 'incision', 'hemostasis',\n",
       "       'dissection', 'closure', 'others'], dtype=object)"
      ]
     },
     "execution_count": 35,
     "metadata": {},
     "output_type": "execute_result"
    }
   ],
   "source": [
    "all_df.phase.unique()"
   ]
  },
  {
   "cell_type": "code",
   "execution_count": 37,
   "metadata": {},
   "outputs": [
    {
     "name": "stdout",
     "output_type": "stream",
     "text": [
      "irrelevant 0\n",
      "design 1\n",
      "anesthesia 2\n",
      "incision 3\n",
      "hemostasis 4\n",
      "dissection 5\n",
      "closure 6\n",
      "others 7\n"
     ]
    },
    {
     "data": {
      "text/plain": [
       "{'irrelevant': 0,\n",
       " 'design': 1,\n",
       " 'anesthesia': 2,\n",
       " 'incision': 3,\n",
       " 'hemostasis': 4,\n",
       " 'dissection': 5,\n",
       " 'closure': 6,\n",
       " 'others': 7}"
      ]
     },
     "execution_count": 37,
     "metadata": {},
     "output_type": "execute_result"
    }
   ],
   "source": [
    "class_labels = {}\n",
    "for i,label in enumerate(all_df.phase.unique()):\n",
    "    class_labels[label] = i\n",
    "    print(label, i)\n",
    "class_labels"
   ]
  },
  {
   "cell_type": "code",
   "execution_count": null,
   "metadata": {},
   "outputs": [],
   "source": [
    "class_labels = {\n",
    "    'irrelevant':0, \n",
    "    'design':1, \n",
    "    'anesthesia':2, \n",
    "    'incision':3, \n",
    "    'hemostasis':4,\n",
    "    'dissection':5, \n",
    "    'closure':6, \n",
    "    'others':7\n",
    "    }"
   ]
  }
 ],
 "metadata": {
  "kernelspec": {
   "display_name": "base",
   "language": "python",
   "name": "python3"
  },
  "language_info": {
   "codemirror_mode": {
    "name": "ipython",
    "version": 3
   },
   "file_extension": ".py",
   "mimetype": "text/x-python",
   "name": "python",
   "nbconvert_exporter": "python",
   "pygments_lexer": "ipython3",
   "version": "3.8.8"
  },
  "orig_nbformat": 4,
  "vscode": {
   "interpreter": {
    "hash": "9ab3e1625478820ce8e6eab39f778c70118865cbc392bc0f6e664f6b4f52763b"
   }
  }
 },
 "nbformat": 4,
 "nbformat_minor": 2
}
