{
 "cells": [
  {
   "cell_type": "code",
   "execution_count": 1,
   "metadata": {},
   "outputs": [],
   "source": [
    "import numpy as np\n",
    "import pandas as pd\n",
    "import os\n",
    "import matplotlib.pyplot as plt\n",
    "%matplotlib inline\n",
    "import seaborn as sns\n",
    "import japanize_matplotlib"
   ]
  },
  {
   "cell_type": "code",
   "execution_count": 2,
   "metadata": {},
   "outputs": [],
   "source": [
    "dic = {\n",
    "    'design': 0,\n",
    "    'anesthesia': 1,\n",
    "    'incision': 2,\n",
    "    'hemostasis': 3,\n",
    "    'dissection': 4,\n",
    "    'closure': 5,\n",
    "    'others': 6,\n",
    "    'irrelevant': 7\n",
    "}"
   ]
  },
  {
   "cell_type": "code",
   "execution_count": 3,
   "metadata": {},
   "outputs": [],
   "source": [
    "dic = {\n",
    "    0:'design',\n",
    "    1:'anesthesia',\n",
    "    2:'incision',\n",
    "    3:'hemostasis',\n",
    "    4:'dissection',\n",
    "    5:'closure',\n",
    "    6:'others',\n",
    "    7:'irrelevant'\n",
    "}"
   ]
  },
  {
   "cell_type": "code",
   "execution_count": 4,
   "metadata": {},
   "outputs": [],
   "source": [
    "df = pd.read_csv('/mnt/sda1/Summarization/SurgSum/outputs_asf_pgl/n_sec=5/out_df_4.csv')"
   ]
  },
  {
   "cell_type": "code",
   "execution_count": 5,
   "metadata": {},
   "outputs": [
    {
     "data": {
      "text/plain": [
       "Index(['Unnamed: 0', 'gts', 'out', 'id', 'out_mean', 'summary', 'phase',\n",
       "       'p_phase', 'file_name', 'phase_7', 'p_phase_7', 'phase_idx',\n",
       "       'phase_ideal_idx', 'out_norm_minmax', 'out_norm_std',\n",
       "       'summary_norm_minmax', 'summary_norm_std', 'min', 'max', 'std', 'mean',\n",
       "       'out_norm_minmax_ideal', 'out_norm_std_ideal',\n",
       "       'summary_norm_minmax_ideal', 'summary_norm_std_ideal',\n",
       "       'random_summary'],\n",
       "      dtype='object')"
      ]
     },
     "execution_count": 5,
     "metadata": {},
     "output_type": "execute_result"
    }
   ],
   "source": [
    "df.columns"
   ]
  },
  {
   "cell_type": "code",
   "execution_count": 6,
   "metadata": {},
   "outputs": [
    {
     "data": {
      "text/plain": [
       "0      17\n",
       "1     115\n",
       "2     398\n",
       "3       8\n",
       "4     454\n",
       "5     889\n",
       "6     350\n",
       "7    1134\n",
       "Name: phase, dtype: int64"
      ]
     },
     "execution_count": 6,
     "metadata": {},
     "output_type": "execute_result"
    }
   ],
   "source": [
    "df.phase.value_counts().sort_index()"
   ]
  },
  {
   "cell_type": "code",
   "execution_count": 7,
   "metadata": {},
   "outputs": [
    {
     "data": {
      "text/plain": [
       "array([  17,  115,  398,    8,  454,  889,  350, 1134])"
      ]
     },
     "execution_count": 7,
     "metadata": {},
     "output_type": "execute_result"
    }
   ],
   "source": [
    "df.phase.value_counts().sort_index().values"
   ]
  },
  {
   "cell_type": "code",
   "execution_count": 8,
   "metadata": {},
   "outputs": [
    {
     "data": {
      "text/plain": [
       "2     45\n",
       "4    170\n",
       "5    115\n",
       "6     10\n",
       "Name: phase, dtype: int64"
      ]
     },
     "execution_count": 8,
     "metadata": {},
     "output_type": "execute_result"
    }
   ],
   "source": [
    "df[df.summary==1].phase.value_counts().sort_index()"
   ]
  },
  {
   "cell_type": "code",
   "execution_count": 10,
   "metadata": {},
   "outputs": [
    {
     "data": {
      "image/png": "[encoded data removed]",
      "text/plain": [
       "<Figure size 432x288 with 1 Axes>"
      ]
     },
     "metadata": {},
     "output_type": "display_data"
    }
   ],
   "source": [
    "data = [0,0,45,0,170,115,10,0] #.map(lambda x: dic[x]).values\n",
    "\n",
    "labels = [\n",
    "    'design',\n",
    "    'anesthesia',\n",
    "    'incision',\n",
    "    'hemostasis',\n",
    "    'dissection',\n",
    "    'closure',\n",
    "    'others',\n",
    "    'irrelevant',]\n",
    "colors = sns.color_palette(\"gist_rainbow\",8)\n",
    "plt.pie(data, colors=colors, labels=None, startangle=90, counterclock=False)\n",
    "plt.show()"
   ]
  },
  {
   "cell_type": "code",
   "execution_count": null,
   "metadata": {},
   "outputs": [],
   "source": [
    "data = [0,0,45,0,170,115,10,0] #.map(lambda x: dic[x]).values\n",
    "\n",
    "labels = [\n",
    "    'design',\n",
    "    'anesthesia',\n",
    "    'incision',\n",
    "    'hemostasis',\n",
    "    'dissection',\n",
    "    'closure',\n",
    "    'others',\n",
    "    'irrelevant',]\n",
    "colors = sns.color_palette(\"gist_rainbow\",8)\n",
    "plt.pie(data, colors=colors, labels=None, startangle=90, counterclock=False)\n",
    "plt.show()"
   ]
  },
  {
   "cell_type": "code",
   "execution_count": 12,
   "metadata": {},
   "outputs": [
    {
     "data": {
      "image/png": "[encoded data removed]",
      "text/plain": [
       "<Figure size 432x288 with 1 Axes>"
      ]
     },
     "metadata": {},
     "output_type": "display_data"
    }
   ],
   "source": [
    "data = [14,10,90,30,58,88,64,15] #.map(lambda x: dic[x]).values\n",
    "\n",
    "labels = [\n",
    "    'design',\n",
    "    'anesthesia',\n",
    "    'incision',\n",
    "    'hemostasis',\n",
    "    'dissection',\n",
    "    'closure',\n",
    "    'others',\n",
    "    'irrelevant',]\n",
    "colors = sns.color_palette(\"gist_rainbow\",8)\n",
    "plt.pie(data, colors=colors, labels=None, startangle=90, counterclock=False)\n",
    "plt.show()"
   ]
  },
  {
   "cell_type": "code",
   "execution_count": null,
   "metadata": {},
   "outputs": [],
   "source": [
    "df.phase.value_counts().sort_index()"
   ]
  },
  {
   "cell_type": "code",
   "execution_count": 30,
   "metadata": {},
   "outputs": [
    {
     "data": {
      "image/png": "[encoded data removed]",
      "text/plain": [
       "<Figure size 432x288 with 1 Axes>"
      ]
     },
     "metadata": {},
     "output_type": "display_data"
    }
   ],
   "source": [
    "data_ori = [17,115,398,8,454,889,350,0]\n",
    "labels = [\n",
    "    'design',\n",
    "    'anesthesia',\n",
    "    'incision',\n",
    "    'hemostasis',\n",
    "    'dissection',\n",
    "    'closure',\n",
    "    'others',\n",
    "    'irrelevant',]\n",
    "explode = [0]*8\n",
    "colors = sns.color_palette(\"gist_rainbow\",8)\n",
    "plt.pie(data_ori, colors=colors, labels=None, startangle=90, counterclock=False, explode=explode)\n",
    "plt.show()"
   ]
  },
  {
   "cell_type": "code",
   "execution_count": 32,
   "metadata": {},
   "outputs": [
    {
     "data": {
      "image/png": "[encoded data removed]",
      "text/plain": [
       "<Figure size 432x288 with 1 Axes>"
      ]
     },
     "metadata": {},
     "output_type": "display_data"
    }
   ],
   "source": [
    "data = [14,10,90,0,58,88,64,15] #.map(lambda x: dic[x]).values\n",
    "\n",
    "labels = [\n",
    "    'design',\n",
    "    'anesthesia',\n",
    "    'incision',\n",
    "    'hemostasis',\n",
    "    'dissection',\n",
    "    'closure',\n",
    "    'others',\n",
    "    'irrelevant',]\n",
    "colors = sns.color_palette(\"gist_rainbow\",8)\n",
    "plt.pie(data, colors=colors, labels=None, startangle=90, counterclock=False)\n",
    "plt.show()"
   ]
  },
  {
   "cell_type": "code",
   "execution_count": 20,
   "metadata": {},
   "outputs": [
    {
     "data": {
      "image/png": "[encoded data removed]",
      "text/plain": [
       "<Figure size 432x288 with 1 Axes>"
      ]
     },
     "metadata": {},
     "output_type": "display_data"
    }
   ],
   "source": [
    "data = [10, 10, 80] #.map(lambda x: dic[x]).values\n",
    "\n",
    "labels = [\n",
    "    'nagative',\n",
    "    '-',\n",
    "    'positive']\n",
    "explode = [0.2, 0, 0.]\n",
    "colors = sns.color_palette(\"vlag\",3)\n",
    "plt.pie(data, colors=colors, labels=None, startangle=90, counterclock=False, explode=explode)\n",
    "plt.show()"
   ]
  },
  {
   "cell_type": "code",
   "execution_count": 96,
   "metadata": {},
   "outputs": [
    {
     "data": {
      "image/png": "[encoded data removed]",
      "text/plain": [
       "<Figure size 432x288 with 1 Axes>"
      ]
     },
     "metadata": {},
     "output_type": "display_data"
    }
   ],
   "source": [
    "data_ori = [1000,215,498,58,454,789,250,20]\n",
    "labels = [\n",
    "    'design',\n",
    "    'anesthesia',\n",
    "    'incision',\n",
    "    'hemostasis',\n",
    "    'dissection',\n",
    "    'closure',\n",
    "    'others',\n",
    "    'irrelevant',]\n",
    "explode = [0.2, 0, 0, 0, 0, 0, 0, 0]\n",
    "colors = sns.color_palette(\"gist_rainbow\",8)\n",
    "plt.pie(data_ori, colors=colors, startangle=90, counterclock=False, explode=explode)\n",
    "plt.show()"
   ]
  },
  {
   "cell_type": "code",
   "execution_count": 10,
   "metadata": {},
   "outputs": [
    {
     "data": {
      "text/html": [
       "<div>\n",
       "<style scoped>\n",
       "    .dataframe tbody tr th:only-of-type {\n",
       "        vertical-align: middle;\n",
       "    }\n",
       "\n",
       "    .dataframe tbody tr th {\n",
       "        vertical-align: top;\n",
       "    }\n",
       "\n",
       "    .dataframe thead th {\n",
       "        text-align: right;\n",
       "    }\n",
       "</style>\n",
       "<table border=\"1\" class=\"dataframe\">\n",
       "  <thead>\n",
       "    <tr style=\"text-align: right;\">\n",
       "      <th></th>\n",
       "      <th>Unnamed: 0</th>\n",
       "      <th>gts</th>\n",
       "      <th>out</th>\n",
       "      <th>id</th>\n",
       "      <th>out_mean</th>\n",
       "      <th>summary</th>\n",
       "      <th>phase</th>\n",
       "      <th>p_phase</th>\n",
       "      <th>file_name</th>\n",
       "      <th>phase_7</th>\n",
       "      <th>...</th>\n",
       "      <th>summary_norm_std</th>\n",
       "      <th>min</th>\n",
       "      <th>max</th>\n",
       "      <th>std</th>\n",
       "      <th>mean</th>\n",
       "      <th>out_norm_minmax_ideal</th>\n",
       "      <th>out_norm_std_ideal</th>\n",
       "      <th>summary_norm_minmax_ideal</th>\n",
       "      <th>summary_norm_std_ideal</th>\n",
       "      <th>random_summary</th>\n",
       "    </tr>\n",
       "  </thead>\n",
       "  <tbody>\n",
       "    <tr>\n",
       "      <th>45</th>\n",
       "      <td>45</td>\n",
       "      <td>0.0</td>\n",
       "      <td>0.017820</td>\n",
       "      <td>9</td>\n",
       "      <td>0.052171</td>\n",
       "      <td>0</td>\n",
       "      <td>6</td>\n",
       "      <td>7.0</td>\n",
       "      <td>video04_003541.png</td>\n",
       "      <td>6.0</td>\n",
       "      <td>...</td>\n",
       "      <td>0</td>\n",
       "      <td>0.052171</td>\n",
       "      <td>0.052171</td>\n",
       "      <td>0.000000</td>\n",
       "      <td>0.052171</td>\n",
       "      <td>NaN</td>\n",
       "      <td>NaN</td>\n",
       "      <td>0</td>\n",
       "      <td>0</td>\n",
       "      <td>0</td>\n",
       "    </tr>\n",
       "    <tr>\n",
       "      <th>46</th>\n",
       "      <td>46</td>\n",
       "      <td>0.0</td>\n",
       "      <td>0.004267</td>\n",
       "      <td>9</td>\n",
       "      <td>0.052171</td>\n",
       "      <td>0</td>\n",
       "      <td>6</td>\n",
       "      <td>7.0</td>\n",
       "      <td>video04_003571.png</td>\n",
       "      <td>6.0</td>\n",
       "      <td>...</td>\n",
       "      <td>0</td>\n",
       "      <td>0.052171</td>\n",
       "      <td>0.052171</td>\n",
       "      <td>0.000000</td>\n",
       "      <td>0.052171</td>\n",
       "      <td>NaN</td>\n",
       "      <td>NaN</td>\n",
       "      <td>0</td>\n",
       "      <td>0</td>\n",
       "      <td>0</td>\n",
       "    </tr>\n",
       "    <tr>\n",
       "      <th>50</th>\n",
       "      <td>50</td>\n",
       "      <td>0.0</td>\n",
       "      <td>0.004506</td>\n",
       "      <td>10</td>\n",
       "      <td>0.040558</td>\n",
       "      <td>0</td>\n",
       "      <td>6</td>\n",
       "      <td>7.0</td>\n",
       "      <td>video04_003691.png</td>\n",
       "      <td>6.0</td>\n",
       "      <td>...</td>\n",
       "      <td>0</td>\n",
       "      <td>0.040558</td>\n",
       "      <td>0.040558</td>\n",
       "      <td>0.000000</td>\n",
       "      <td>0.040558</td>\n",
       "      <td>NaN</td>\n",
       "      <td>NaN</td>\n",
       "      <td>0</td>\n",
       "      <td>0</td>\n",
       "      <td>1</td>\n",
       "    </tr>\n",
       "    <tr>\n",
       "      <th>51</th>\n",
       "      <td>51</td>\n",
       "      <td>0.0</td>\n",
       "      <td>0.004753</td>\n",
       "      <td>10</td>\n",
       "      <td>0.040558</td>\n",
       "      <td>0</td>\n",
       "      <td>6</td>\n",
       "      <td>7.0</td>\n",
       "      <td>video04_003721.png</td>\n",
       "      <td>6.0</td>\n",
       "      <td>...</td>\n",
       "      <td>0</td>\n",
       "      <td>0.040558</td>\n",
       "      <td>0.040558</td>\n",
       "      <td>0.000000</td>\n",
       "      <td>0.040558</td>\n",
       "      <td>NaN</td>\n",
       "      <td>NaN</td>\n",
       "      <td>0</td>\n",
       "      <td>0</td>\n",
       "      <td>1</td>\n",
       "    </tr>\n",
       "    <tr>\n",
       "      <th>52</th>\n",
       "      <td>52</td>\n",
       "      <td>0.0</td>\n",
       "      <td>0.004160</td>\n",
       "      <td>10</td>\n",
       "      <td>0.040558</td>\n",
       "      <td>0</td>\n",
       "      <td>6</td>\n",
       "      <td>7.0</td>\n",
       "      <td>video04_003751.png</td>\n",
       "      <td>6.0</td>\n",
       "      <td>...</td>\n",
       "      <td>0</td>\n",
       "      <td>0.040558</td>\n",
       "      <td>0.040558</td>\n",
       "      <td>0.000000</td>\n",
       "      <td>0.040558</td>\n",
       "      <td>NaN</td>\n",
       "      <td>NaN</td>\n",
       "      <td>0</td>\n",
       "      <td>0</td>\n",
       "      <td>1</td>\n",
       "    </tr>\n",
       "    <tr>\n",
       "      <th>...</th>\n",
       "      <td>...</td>\n",
       "      <td>...</td>\n",
       "      <td>...</td>\n",
       "      <td>...</td>\n",
       "      <td>...</td>\n",
       "      <td>...</td>\n",
       "      <td>...</td>\n",
       "      <td>...</td>\n",
       "      <td>...</td>\n",
       "      <td>...</td>\n",
       "      <td>...</td>\n",
       "      <td>...</td>\n",
       "      <td>...</td>\n",
       "      <td>...</td>\n",
       "      <td>...</td>\n",
       "      <td>...</td>\n",
       "      <td>...</td>\n",
       "      <td>...</td>\n",
       "      <td>...</td>\n",
       "      <td>...</td>\n",
       "      <td>...</td>\n",
       "    </tr>\n",
       "    <tr>\n",
       "      <th>2961</th>\n",
       "      <td>2961</td>\n",
       "      <td>0.5</td>\n",
       "      <td>0.932714</td>\n",
       "      <td>592</td>\n",
       "      <td>0.342739</td>\n",
       "      <td>0</td>\n",
       "      <td>6</td>\n",
       "      <td>7.0</td>\n",
       "      <td>video04_148441.png</td>\n",
       "      <td>6.0</td>\n",
       "      <td>...</td>\n",
       "      <td>0</td>\n",
       "      <td>0.210933</td>\n",
       "      <td>0.342739</td>\n",
       "      <td>0.068064</td>\n",
       "      <td>0.254868</td>\n",
       "      <td>1.0</td>\n",
       "      <td>1.290995</td>\n",
       "      <td>1</td>\n",
       "      <td>1</td>\n",
       "      <td>0</td>\n",
       "    </tr>\n",
       "    <tr>\n",
       "      <th>2977</th>\n",
       "      <td>2977</td>\n",
       "      <td>0.5</td>\n",
       "      <td>0.007912</td>\n",
       "      <td>595</td>\n",
       "      <td>0.268952</td>\n",
       "      <td>0</td>\n",
       "      <td>6</td>\n",
       "      <td>7.0</td>\n",
       "      <td>video04_148921.png</td>\n",
       "      <td>6.0</td>\n",
       "      <td>...</td>\n",
       "      <td>0</td>\n",
       "      <td>0.268952</td>\n",
       "      <td>0.298976</td>\n",
       "      <td>0.015012</td>\n",
       "      <td>0.276458</td>\n",
       "      <td>0.0</td>\n",
       "      <td>-0.500000</td>\n",
       "      <td>0</td>\n",
       "      <td>0</td>\n",
       "      <td>0</td>\n",
       "    </tr>\n",
       "    <tr>\n",
       "      <th>2978</th>\n",
       "      <td>2978</td>\n",
       "      <td>0.5</td>\n",
       "      <td>0.620466</td>\n",
       "      <td>595</td>\n",
       "      <td>0.268952</td>\n",
       "      <td>0</td>\n",
       "      <td>6</td>\n",
       "      <td>7.0</td>\n",
       "      <td>video04_148951.png</td>\n",
       "      <td>6.0</td>\n",
       "      <td>...</td>\n",
       "      <td>0</td>\n",
       "      <td>0.268952</td>\n",
       "      <td>0.298976</td>\n",
       "      <td>0.015012</td>\n",
       "      <td>0.276458</td>\n",
       "      <td>0.0</td>\n",
       "      <td>-0.500000</td>\n",
       "      <td>0</td>\n",
       "      <td>0</td>\n",
       "      <td>0</td>\n",
       "    </tr>\n",
       "    <tr>\n",
       "      <th>2979</th>\n",
       "      <td>2979</td>\n",
       "      <td>0.5</td>\n",
       "      <td>0.704999</td>\n",
       "      <td>595</td>\n",
       "      <td>0.268952</td>\n",
       "      <td>0</td>\n",
       "      <td>6</td>\n",
       "      <td>7.0</td>\n",
       "      <td>video04_148981.png</td>\n",
       "      <td>6.0</td>\n",
       "      <td>...</td>\n",
       "      <td>0</td>\n",
       "      <td>0.268952</td>\n",
       "      <td>0.298976</td>\n",
       "      <td>0.015012</td>\n",
       "      <td>0.276458</td>\n",
       "      <td>0.0</td>\n",
       "      <td>-0.500000</td>\n",
       "      <td>0</td>\n",
       "      <td>0</td>\n",
       "      <td>0</td>\n",
       "    </tr>\n",
       "    <tr>\n",
       "      <th>2980</th>\n",
       "      <td>2980</td>\n",
       "      <td>0.0</td>\n",
       "      <td>0.808592</td>\n",
       "      <td>596</td>\n",
       "      <td>0.298976</td>\n",
       "      <td>0</td>\n",
       "      <td>6</td>\n",
       "      <td>7.0</td>\n",
       "      <td>video04_149011.png</td>\n",
       "      <td>6.0</td>\n",
       "      <td>...</td>\n",
       "      <td>0</td>\n",
       "      <td>0.268952</td>\n",
       "      <td>0.298976</td>\n",
       "      <td>0.015012</td>\n",
       "      <td>0.276458</td>\n",
       "      <td>1.0</td>\n",
       "      <td>1.500000</td>\n",
       "      <td>1</td>\n",
       "      <td>1</td>\n",
       "      <td>0</td>\n",
       "    </tr>\n",
       "  </tbody>\n",
       "</table>\n",
       "<p>350 rows × 26 columns</p>\n",
       "</div>"
      ],
      "text/plain": [
       "      Unnamed: 0  gts       out   id  out_mean  summary  phase  p_phase  \\\n",
       "45            45  0.0  0.017820    9  0.052171        0      6      7.0   \n",
       "46            46  0.0  0.004267    9  0.052171        0      6      7.0   \n",
       "50            50  0.0  0.004506   10  0.040558        0      6      7.0   \n",
       "51            51  0.0  0.004753   10  0.040558        0      6      7.0   \n",
       "52            52  0.0  0.004160   10  0.040558        0      6      7.0   \n",
       "...          ...  ...       ...  ...       ...      ...    ...      ...   \n",
       "2961        2961  0.5  0.932714  592  0.342739        0      6      7.0   \n",
       "2977        2977  0.5  0.007912  595  0.268952        0      6      7.0   \n",
       "2978        2978  0.5  0.620466  595  0.268952        0      6      7.0   \n",
       "2979        2979  0.5  0.704999  595  0.268952        0      6      7.0   \n",
       "2980        2980  0.0  0.808592  596  0.298976        0      6      7.0   \n",
       "\n",
       "               file_name  phase_7  ...  summary_norm_std       min       max  \\\n",
       "45    video04_003541.png      6.0  ...                 0  0.052171  0.052171   \n",
       "46    video04_003571.png      6.0  ...                 0  0.052171  0.052171   \n",
       "50    video04_003691.png      6.0  ...                 0  0.040558  0.040558   \n",
       "51    video04_003721.png      6.0  ...                 0  0.040558  0.040558   \n",
       "52    video04_003751.png      6.0  ...                 0  0.040558  0.040558   \n",
       "...                  ...      ...  ...               ...       ...       ...   \n",
       "2961  video04_148441.png      6.0  ...                 0  0.210933  0.342739   \n",
       "2977  video04_148921.png      6.0  ...                 0  0.268952  0.298976   \n",
       "2978  video04_148951.png      6.0  ...                 0  0.268952  0.298976   \n",
       "2979  video04_148981.png      6.0  ...                 0  0.268952  0.298976   \n",
       "2980  video04_149011.png      6.0  ...                 0  0.268952  0.298976   \n",
       "\n",
       "           std      mean  out_norm_minmax_ideal  out_norm_std_ideal  \\\n",
       "45    0.000000  0.052171                    NaN                 NaN   \n",
       "46    0.000000  0.052171                    NaN                 NaN   \n",
       "50    0.000000  0.040558                    NaN                 NaN   \n",
       "51    0.000000  0.040558                    NaN                 NaN   \n",
       "52    0.000000  0.040558                    NaN                 NaN   \n",
       "...        ...       ...                    ...                 ...   \n",
       "2961  0.068064  0.254868                    1.0            1.290995   \n",
       "2977  0.015012  0.276458                    0.0           -0.500000   \n",
       "2978  0.015012  0.276458                    0.0           -0.500000   \n",
       "2979  0.015012  0.276458                    0.0           -0.500000   \n",
       "2980  0.015012  0.276458                    1.0            1.500000   \n",
       "\n",
       "      summary_norm_minmax_ideal  summary_norm_std_ideal  random_summary  \n",
       "45                            0                       0               0  \n",
       "46                            0                       0               0  \n",
       "50                            0                       0               1  \n",
       "51                            0                       0               1  \n",
       "52                            0                       0               1  \n",
       "...                         ...                     ...             ...  \n",
       "2961                          1                       1               0  \n",
       "2977                          0                       0               0  \n",
       "2978                          0                       0               0  \n",
       "2979                          0                       0               0  \n",
       "2980                          1                       1               0  \n",
       "\n",
       "[350 rows x 26 columns]"
      ]
     },
     "execution_count": 10,
     "metadata": {},
     "output_type": "execute_result"
    }
   ],
   "source": [
    "df[df.phase==6]"
   ]
  },
  {
   "attachments": {},
   "cell_type": "markdown",
   "metadata": {},
   "source": [
    "# n_sec折線グラフ"
   ]
  },
  {
   "cell_type": "code",
   "execution_count": 3,
   "metadata": {},
   "outputs": [],
   "source": [
    "time_list = [1, 3, 5, 7, 10, 20]\n",
    "p_list = [0.5679, 0.5665, 0.5652, 0.5389, 0.538, 0.5475, 0.537]\n",
    "n_list= [0.0757, 0.0655, 0.0696, 0.0830, 0.0989, 0.0758, 0.101]\n",
    "val_list = [0.0703, 0.0564, 0.0536, 0.05512, 0.0602, 0.0602]\n",
    "baseline = [0.0860, 0.0924, 0.0940, 0.08932, 0.0900, 0.0904]"
   ]
  },
  {
   "cell_type": "code",
   "execution_count": 4,
   "metadata": {},
   "outputs": [],
   "source": [
    "data = pd.DataFrame({'segment_length (s)':time_list, 'di_score': val_list, 'baseline':baseline})"
   ]
  },
  {
   "cell_type": "code",
   "execution_count": 7,
   "metadata": {},
   "outputs": [
    {
     "data": {
      "text/plain": [
       "<matplotlib.legend.Legend at 0x7fa1481b0ac0>"
      ]
     },
     "execution_count": 7,
     "metadata": {},
     "output_type": "execute_result"
    },
    {
     "data": {
      "image/png": "[encoded data removed]",
      "text/plain": [
       "<Figure size 576x288 with 1 Axes>"
      ]
     },
     "metadata": {},
     "output_type": "display_data"
    }
   ],
   "source": [
    "sns.set_style(\"ticks\")\n",
    "plt.figure(figsize=(8, 4))  # グラフのサイズを指定\n",
    "sns.lineplot(data=data, x=\"segment_length (s)\", y=\"di_score\", marker='o', color='r', linestyle='-', markersize=8)\n",
    "sns.lineplot(data=data, x=\"segment_length (s)\", y=\"baseline\", marker='o', color='b', linestyle='-', markersize=8)\n",
    "sns.despine()\n",
    "plt.legend(labels=[\"proposed\", \"baseline\"])\n",
    "# sns.lineplot(data=data, x=\"x\", y=\"p_list\", marker='o', color='r', linestyle='-', markersize=8)\n",
    "# sns.lineplot(data=data, x=\"x\", y=\"n_list\", marker='o', color='b', linestyle='-', markersize=8)"
   ]
  },
  {
   "cell_type": "code",
   "execution_count": null,
   "metadata": {},
   "outputs": [],
   "source": []
  }
 ],
 "metadata": {
  "kernelspec": {
   "display_name": "base",
   "language": "python",
   "name": "python3"
  },
  "language_info": {
   "codemirror_mode": {
    "name": "ipython",
    "version": 3
   },
   "file_extension": ".py",
   "mimetype": "text/x-python",
   "name": "python",
   "nbconvert_exporter": "python",
   "pygments_lexer": "ipython3",
   "version": "3.8.8"
  },
  "orig_nbformat": 4,
  "vscode": {
   "interpreter": {
    "hash": "9ab3e1625478820ce8e6eab39f778c70118865cbc392bc0f6e664f6b4f52763b"
   }
  }
 },
 "nbformat": 4,
 "nbformat_minor": 2
}
