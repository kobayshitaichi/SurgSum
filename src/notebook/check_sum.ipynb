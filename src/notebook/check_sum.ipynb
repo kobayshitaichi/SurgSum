{
 "cells": [
  {
   "cell_type": "code",
   "execution_count": 1,
   "metadata": {},
   "outputs": [],
   "source": [
    "import numpy as np\n",
    "import pandas as pd"
   ]
  },
  {
   "cell_type": "code",
   "execution_count": 2,
   "metadata": {},
   "outputs": [],
   "source": [
    "gts = np.load('/mnt/sda1/Summarization/SurgSum/result/model_name=pgl_sum-lr=5e-05-loss_fn=mae-mode=fit_test/gts.npy')\n",
    "out = np.load('/mnt/sda1/Summarization/SurgSum/result/model_name=pgl_sum-lr=5e-05-loss_fn=mae-mode=fit_test/outputs.npy')"
   ]
  },
  {
   "cell_type": "code",
   "execution_count": 3,
   "metadata": {},
   "outputs": [],
   "source": [
    "df = pd.DataFrame({'gts':gts[0],'out':out[0]})"
   ]
  },
  {
   "cell_type": "code",
   "execution_count": 4,
   "metadata": {},
   "outputs": [
    {
     "name": "stdout",
     "output_type": "stream",
     "text": [
      "0: 0.14335095882415771\n",
      "0.5: 0.6871922612190247\n",
      "1: 0.8478579521179199\n"
     ]
    }
   ],
   "source": [
    "for i in [0,0.5,1]:\n",
    "    print(f'{i}: {df[df.gts==i].out.mean()}')"
   ]
  },
  {
   "cell_type": "code",
   "execution_count": 5,
   "metadata": {},
   "outputs": [],
   "source": [
    "df['id'] = df.index // 10"
   ]
  },
  {
   "cell_type": "code",
   "execution_count": 6,
   "metadata": {},
   "outputs": [],
   "source": [
    "max_id = df.id.max()"
   ]
  },
  {
   "cell_type": "code",
   "execution_count": 7,
   "metadata": {},
   "outputs": [],
   "source": [
    "df = df.merge(df.groupby('id').aggregate('mean').rename(columns={'out':'out_mean'})['out_mean'], on='id', how='left')"
   ]
  },
  {
   "cell_type": "code",
   "execution_count": 8,
   "metadata": {},
   "outputs": [
    {
     "name": "stdout",
     "output_type": "stream",
     "text": [
      "p_rate: 0.25860000000000005\n",
      "n_rate: 0.3916000000000001\n",
      "0.36\n",
      "0.07779265058275935\n"
     ]
    }
   ],
   "source": [
    "p_rate = 0\n",
    "n_rate = 0\n",
    "for i in range(100):\n",
    "    tmp = df.iloc[::10].sample(50, random_state=i)\n",
    "    p_rate += len(tmp[tmp.gts==1]) * 0.01 / len(tmp)\n",
    "    n_rate += len(tmp[tmp.gts==0]) * 0.01 / len(tmp)\n",
    "print(f'p_rate: {p_rate}')\n",
    "print(f'n_rate: {n_rate}')\n",
    "print(len(tmp[tmp.gts==0.5]) / len(tmp))\n",
    "print(np.var(tmp.id/max_id))"
   ]
  },
  {
   "cell_type": "code",
   "execution_count": 9,
   "metadata": {},
   "outputs": [
    {
     "name": "stdout",
     "output_type": "stream",
     "text": [
      "p_rate: 0.6530612244897959\n",
      "n_rate: 0.02040816326530612\n",
      "0.32653061224489793\n",
      "0.06667413640971791\n"
     ]
    }
   ],
   "source": [
    "output = df.sort_values('out_mean',ascending=False).iloc[:-(-(len(df))//10)].iloc[::10]\n",
    "p_rate = len(output[output.gts==1]) / len(output)\n",
    "n_rate = len(output[output.gts==0]) / len(output)\n",
    "print(f'p_rate: {p_rate}')\n",
    "print(f'n_rate: {n_rate}')\n",
    "print(len(output[output.gts==0.5]) / len(output))\n",
    "print(np.var(output.id/max_id))"
   ]
  },
  {
   "cell_type": "code",
   "execution_count": 10,
   "metadata": {},
   "outputs": [
    {
     "name": "stdout",
     "output_type": "stream",
     "text": [
      "mae: 0.22499532997608185\n",
      "mse: 0.11905192583799362\n"
     ]
    }
   ],
   "source": [
    "from sklearn.metrics import mean_absolute_error as mae\n",
    "from sklearn.metrics import mean_squared_error as mse\n",
    "import random\n",
    "\n",
    "print(f'mae: {mae(df.gts, df.out)}')\n",
    "print(f'mse: {mse(df.gts, df.out)}')"
   ]
  },
  {
   "cell_type": "code",
   "execution_count": 11,
   "metadata": {},
   "outputs": [
    {
     "name": "stdout",
     "output_type": "stream",
     "text": [
      "mae: 0.41608347352122277\n",
      "mse: 0.248601668320607\n"
     ]
    }
   ],
   "source": [
    "mae_score=0\n",
    "mse_score=0\n",
    "\n",
    "for i in range(100):\n",
    "    random.seed(i)\n",
    "    mae_score += mae(df.gts, [random.random() for _ in range(len(df))])/100\n",
    "    mse_score += mse(df.gts, [random.random() for _ in range(len(df))])/100\n",
    "\n",
    "print(f'mae: {mae_score}')\n",
    "print(f'mse: {mse_score}')"
   ]
  },
  {
   "cell_type": "code",
   "execution_count": 15,
   "metadata": {},
   "outputs": [
    {
     "data": {
      "text/plain": [
       "4896"
      ]
     },
     "execution_count": 15,
     "metadata": {},
     "output_type": "execute_result"
    }
   ],
   "source": [
    "len(df)"
   ]
  },
  {
   "cell_type": "code",
   "execution_count": 31,
   "metadata": {},
   "outputs": [
    {
     "data": {
      "text/plain": [
       "array([0, 0, 0, 1, 0, 0, 0, 0, 0, 0, 0, 0, 0, 0, 0, 0, 0, 0, 0, 0, 0, 0,\n",
       "       0, 0, 0, 0, 0, 0, 0, 0, 0, 0, 0, 0, 0, 0, 0, 0, 0, 0, 0, 0, 0, 0,\n",
       "       0, 0, 0, 0, 0, 0, 0, 0, 0, 0, 0, 0, 1, 0, 0, 0, 0, 0, 0, 0, 0, 0,\n",
       "       0, 0, 0, 0, 0, 0, 0, 0, 0, 0, 0, 0, 0, 0, 0, 0, 0, 0, 0, 0, 0, 0,\n",
       "       0, 0, 0, 0, 0, 0, 0, 0, 0, 0, 0, 0])"
      ]
     },
     "execution_count": 31,
     "metadata": {},
     "output_type": "execute_result"
    }
   ],
   "source": []
  },
  {
   "cell_type": "code",
   "execution_count": 67,
   "metadata": {},
   "outputs": [
    {
     "name": "stderr",
     "output_type": "stream",
     "text": [
      "/home/aolab/anaconda3/lib/python3.8/site-packages/IPython/core/interactiveshell.py:3165: DtypeWarning: Columns (2) have mixed types.Specify dtype option on import or set low_memory=False.\n",
      "  has_raised = await self.run_ast_nodes(code_ast.body, cell_name,\n"
     ]
    }
   ],
   "source": []
  },
  {
   "cell_type": "code",
   "execution_count": 68,
   "metadata": {},
   "outputs": [],
   "source": [
    "from sklearn.metrics import accuracy_score, f1_score"
   ]
  },
  {
   "cell_type": "code",
   "execution_count": 69,
   "metadata": {},
   "outputs": [
    {
     "data": {
      "text/plain": [
       "True     3044\n",
       "False    1852\n",
       "Name: field, dtype: int64"
      ]
     },
     "execution_count": 69,
     "metadata": {},
     "output_type": "execute_result"
    }
   ],
   "source": [
    "df_p[df_p.video_idx==3].field.value_counts()"
   ]
  },
  {
   "cell_type": "code",
   "execution_count": 64,
   "metadata": {},
   "outputs": [
    {
     "data": {
      "text/plain": [
       "array([0, 0, 0, ..., 0, 0, 0])"
      ]
     },
     "execution_count": 64,
     "metadata": {},
     "output_type": "execute_result"
    }
   ],
   "source": [
    "gts"
   ]
  },
  {
   "cell_type": "code",
   "execution_count": 82,
   "metadata": {},
   "outputs": [
    {
     "name": "stdout",
     "output_type": "stream",
     "text": [
      "acc: 0.8705065359477124\n",
      "f1: 0.8975436328377504\n"
     ]
    },
    {
     "name": "stderr",
     "output_type": "stream",
     "text": [
      "/home/aolab/anaconda3/lib/python3.8/site-packages/IPython/core/interactiveshell.py:3165: DtypeWarning: Columns (2) have mixed types.Specify dtype option on import or set low_memory=False.\n",
      "  has_raised = await self.run_ast_nodes(code_ast.body, cell_name,\n"
     ]
    }
   ],
   "source": [
    "df_p = pd.read_csv('/mnt/sda1/Summarization/SurgSum/result/fps_sampling=1-batch_size=128-img_size=224-out_features=6-lr=0.0001-loss_fn=ib_focal-max_epoch=20-aug_ver=1/processed_df.csv')\n",
    "th = 0.1\n",
    "pred = df.out.map(lambda x: 1 if x>th else 0).values\n",
    "df_p = df_p[df_p.video_idx==3]\n",
    "df_p['field'] = df_p.field.map(lambda x: 1 if x=='True' else 0)\n",
    "gts = df_p.field.values\n",
    "print(f'acc: {accuracy_score(gts, pred)}')\n",
    "print(f'f1: {f1_score(gts, pred)}')"
   ]
  },
  {
   "cell_type": "code",
   "execution_count": null,
   "metadata": {},
   "outputs": [],
   "source": []
  },
  {
   "cell_type": "code",
   "execution_count": 75,
   "metadata": {},
   "outputs": [
    {
     "data": {
      "text/plain": [
       "10210     True\n",
       "10211     True\n",
       "10212     True\n",
       "10213     True\n",
       "10214     True\n",
       "         ...  \n",
       "15101    False\n",
       "15102    False\n",
       "15103    False\n",
       "15104    False\n",
       "15105    False\n",
       "Name: field, Length: 4896, dtype: bool"
      ]
     },
     "execution_count": 75,
     "metadata": {},
     "output_type": "execute_result"
    }
   ],
   "source": [
    "df_p.field=='True'"
   ]
  },
  {
   "cell_type": "code",
   "execution_count": 66,
   "metadata": {},
   "outputs": [
    {
     "data": {
      "text/html": [
       "<div>\n",
       "<style scoped>\n",
       "    .dataframe tbody tr th:only-of-type {\n",
       "        vertical-align: middle;\n",
       "    }\n",
       "\n",
       "    .dataframe tbody tr th {\n",
       "        vertical-align: top;\n",
       "    }\n",
       "\n",
       "    .dataframe thead th {\n",
       "        text-align: right;\n",
       "    }\n",
       "</style>\n",
       "<table border=\"1\" class=\"dataframe\">\n",
       "  <thead>\n",
       "    <tr style=\"text-align: right;\">\n",
       "      <th></th>\n",
       "      <th>Frame</th>\n",
       "      <th>time</th>\n",
       "      <th>field</th>\n",
       "      <th>phase</th>\n",
       "      <th>summary</th>\n",
       "      <th>video_idx</th>\n",
       "      <th>file_name</th>\n",
       "      <th>stage</th>\n",
       "      <th>y</th>\n",
       "    </tr>\n",
       "  </thead>\n",
       "  <tbody>\n",
       "    <tr>\n",
       "      <th>10210</th>\n",
       "      <td>0</td>\n",
       "      <td>0:00:00.00</td>\n",
       "      <td>0</td>\n",
       "      <td>others</td>\n",
       "      <td>-1.0</td>\n",
       "      <td>3</td>\n",
       "      <td>video03_000001.png</td>\n",
       "      <td>val</td>\n",
       "      <td>1</td>\n",
       "    </tr>\n",
       "    <tr>\n",
       "      <th>10211</th>\n",
       "      <td>30</td>\n",
       "      <td>0:00:01.00</td>\n",
       "      <td>0</td>\n",
       "      <td>others</td>\n",
       "      <td>-1.0</td>\n",
       "      <td>3</td>\n",
       "      <td>video03_000031.png</td>\n",
       "      <td>val</td>\n",
       "      <td>1</td>\n",
       "    </tr>\n",
       "    <tr>\n",
       "      <th>10212</th>\n",
       "      <td>60</td>\n",
       "      <td>0:00:02.00</td>\n",
       "      <td>0</td>\n",
       "      <td>others</td>\n",
       "      <td>-1.0</td>\n",
       "      <td>3</td>\n",
       "      <td>video03_000061.png</td>\n",
       "      <td>val</td>\n",
       "      <td>1</td>\n",
       "    </tr>\n",
       "    <tr>\n",
       "      <th>10213</th>\n",
       "      <td>90</td>\n",
       "      <td>0:00:03.00</td>\n",
       "      <td>0</td>\n",
       "      <td>others</td>\n",
       "      <td>-1.0</td>\n",
       "      <td>3</td>\n",
       "      <td>video03_000091.png</td>\n",
       "      <td>val</td>\n",
       "      <td>1</td>\n",
       "    </tr>\n",
       "    <tr>\n",
       "      <th>10214</th>\n",
       "      <td>120</td>\n",
       "      <td>0:00:04.00</td>\n",
       "      <td>0</td>\n",
       "      <td>others</td>\n",
       "      <td>-1.0</td>\n",
       "      <td>3</td>\n",
       "      <td>video03_000121.png</td>\n",
       "      <td>val</td>\n",
       "      <td>1</td>\n",
       "    </tr>\n",
       "    <tr>\n",
       "      <th>...</th>\n",
       "      <td>...</td>\n",
       "      <td>...</td>\n",
       "      <td>...</td>\n",
       "      <td>...</td>\n",
       "      <td>...</td>\n",
       "      <td>...</td>\n",
       "      <td>...</td>\n",
       "      <td>...</td>\n",
       "      <td>...</td>\n",
       "    </tr>\n",
       "    <tr>\n",
       "      <th>15101</th>\n",
       "      <td>146730</td>\n",
       "      <td>1:21:31.00</td>\n",
       "      <td>0</td>\n",
       "      <td>irrelevant</td>\n",
       "      <td>-1.0</td>\n",
       "      <td>3</td>\n",
       "      <td>video03_146731.png</td>\n",
       "      <td>val</td>\n",
       "      <td>1</td>\n",
       "    </tr>\n",
       "    <tr>\n",
       "      <th>15102</th>\n",
       "      <td>146760</td>\n",
       "      <td>1:21:32.00</td>\n",
       "      <td>0</td>\n",
       "      <td>irrelevant</td>\n",
       "      <td>-1.0</td>\n",
       "      <td>3</td>\n",
       "      <td>video03_146761.png</td>\n",
       "      <td>val</td>\n",
       "      <td>1</td>\n",
       "    </tr>\n",
       "    <tr>\n",
       "      <th>15103</th>\n",
       "      <td>146790</td>\n",
       "      <td>1:21:33.00</td>\n",
       "      <td>0</td>\n",
       "      <td>irrelevant</td>\n",
       "      <td>-1.0</td>\n",
       "      <td>3</td>\n",
       "      <td>video03_146791.png</td>\n",
       "      <td>val</td>\n",
       "      <td>1</td>\n",
       "    </tr>\n",
       "    <tr>\n",
       "      <th>15104</th>\n",
       "      <td>146820</td>\n",
       "      <td>1:21:34.00</td>\n",
       "      <td>0</td>\n",
       "      <td>irrelevant</td>\n",
       "      <td>-1.0</td>\n",
       "      <td>3</td>\n",
       "      <td>video03_146821.png</td>\n",
       "      <td>val</td>\n",
       "      <td>1</td>\n",
       "    </tr>\n",
       "    <tr>\n",
       "      <th>15105</th>\n",
       "      <td>146850</td>\n",
       "      <td>1:21:35.00</td>\n",
       "      <td>0</td>\n",
       "      <td>irrelevant</td>\n",
       "      <td>-1.0</td>\n",
       "      <td>3</td>\n",
       "      <td>video03_146851.png</td>\n",
       "      <td>val</td>\n",
       "      <td>1</td>\n",
       "    </tr>\n",
       "  </tbody>\n",
       "</table>\n",
       "<p>4896 rows × 9 columns</p>\n",
       "</div>"
      ],
      "text/plain": [
       "        Frame        time  field       phase  summary  video_idx  \\\n",
       "10210       0  0:00:00.00      0      others     -1.0          3   \n",
       "10211      30  0:00:01.00      0      others     -1.0          3   \n",
       "10212      60  0:00:02.00      0      others     -1.0          3   \n",
       "10213      90  0:00:03.00      0      others     -1.0          3   \n",
       "10214     120  0:00:04.00      0      others     -1.0          3   \n",
       "...       ...         ...    ...         ...      ...        ...   \n",
       "15101  146730  1:21:31.00      0  irrelevant     -1.0          3   \n",
       "15102  146760  1:21:32.00      0  irrelevant     -1.0          3   \n",
       "15103  146790  1:21:33.00      0  irrelevant     -1.0          3   \n",
       "15104  146820  1:21:34.00      0  irrelevant     -1.0          3   \n",
       "15105  146850  1:21:35.00      0  irrelevant     -1.0          3   \n",
       "\n",
       "                file_name stage  y  \n",
       "10210  video03_000001.png   val  1  \n",
       "10211  video03_000031.png   val  1  \n",
       "10212  video03_000061.png   val  1  \n",
       "10213  video03_000091.png   val  1  \n",
       "10214  video03_000121.png   val  1  \n",
       "...                   ...   ... ..  \n",
       "15101  video03_146731.png   val  1  \n",
       "15102  video03_146761.png   val  1  \n",
       "15103  video03_146791.png   val  1  \n",
       "15104  video03_146821.png   val  1  \n",
       "15105  video03_146851.png   val  1  \n",
       "\n",
       "[4896 rows x 9 columns]"
      ]
     },
     "execution_count": 66,
     "metadata": {},
     "output_type": "execute_result"
    }
   ],
   "source": []
  },
  {
   "cell_type": "code",
   "execution_count": 42,
   "metadata": {},
   "outputs": [
    {
     "data": {
      "text/plain": [
       "4"
      ]
     },
     "execution_count": 42,
     "metadata": {},
     "output_type": "execute_result"
    }
   ],
   "source": [
    "pred.sum()"
   ]
  },
  {
   "cell_type": "code",
   "execution_count": 43,
   "metadata": {},
   "outputs": [
    {
     "data": {
      "text/plain": [
       "0"
      ]
     },
     "execution_count": 43,
     "metadata": {},
     "output_type": "execute_result"
    }
   ],
   "source": [
    "gts.sum()"
   ]
  },
  {
   "cell_type": "markdown",
   "metadata": {},
   "source": [
    "# segbar"
   ]
  },
  {
   "cell_type": "code",
   "execution_count": 308,
   "metadata": {},
   "outputs": [],
   "source": [
    "import matplotlib.pyplot as plt\n",
    "%matplotlib inline\n",
    "\n",
    "def segment_bars_with_confidence(save_path, confidence, *labels):\n",
    "    num_pics = len(labels) + 1\n",
    "    color_map = plt.get_cmap('gist_rainbow')\n",
    " \n",
    "    axprops = dict(xticks=[], yticks=[], frameon=False)\n",
    "    barprops = dict(aspect='auto', cmap=color_map,\n",
    "                    interpolation='nearest', vmin=0)\n",
    "    fig = plt.figure(figsize=(15, num_pics * 1.5))\n",
    " \n",
    "    interval = 1 / (num_pics+1)\n",
    "    for i, label in enumerate(labels):\n",
    "        i = i + 1\n",
    "        ax1 = fig.add_axes([0, 1-i*interval, 1, interval])\n",
    "        ax1.imshow([label], **barprops)\n",
    " \n",
    "    ax4 = fig.add_axes([0, interval, 1, interval])\n",
    "    ax4.set_xlim(0, len(confidence))\n",
    "    ax4.set_ylim(0, 1)\n",
    "    ax4.plot(range(len(confidence)), confidence)\n",
    "    ax4.plot(range(len(confidence)), [0.3] * len(confidence), color='red', label='0.5')\n",
    " \n",
    "    if save_path is not None:\n",
    "        plt.savefig(save_path)\n",
    "    else:\n",
    "        plt.show()\n",
    "\n",
    "def segment_bars(color, save_path, *labels):\n",
    "    num_pics = len(labels)\n",
    "    color_map = plt.get_cmap(color) #https://beiznotes.org/matplot-cmap-list/\n",
    "    # color_map =\n",
    "    fig = plt.figure(figsize=(15, num_pics * 1.5))\n",
    " \n",
    "    barprops = dict(aspect='auto', cmap=color_map,\n",
    "                    interpolation='nearest', vmin=0, vmax=20)\n",
    " \n",
    "    for i, label in enumerate(labels):\n",
    "        plt.subplot(num_pics, 1,  i+1)\n",
    "        plt.xticks([])\n",
    "        plt.yticks([])\n",
    "        plt.imshow([label], **barprops)\n",
    " \n",
    "    if save_path is not None:\n",
    "        plt.savefig(save_path)\n",
    "    else:\n",
    "        plt.show()\n",
    " \n",
    "    plt.close()"
   ]
  },
  {
   "cell_type": "code",
   "execution_count": 309,
   "metadata": {},
   "outputs": [
    {
     "data": {
      "text/plain": [
       "0.0    1968\n",
       "0.5    1660\n",
       "1.0    1268\n",
       "Name: gts, dtype: int64"
      ]
     },
     "execution_count": 309,
     "metadata": {},
     "output_type": "execute_result"
    }
   ],
   "source": [
    "df.gts.value_counts()"
   ]
  },
  {
   "cell_type": "code",
   "execution_count": 310,
   "metadata": {},
   "outputs": [
    {
     "data": {
      "text/plain": [
       "489"
      ]
     },
     "execution_count": 310,
     "metadata": {},
     "output_type": "execute_result"
    }
   ],
   "source": [
    "len(df)//10"
   ]
  },
  {
   "cell_type": "code",
   "execution_count": 311,
   "metadata": {},
   "outputs": [],
   "source": [
    "th = df.sort_values('out_mean',ascending=False).iloc[len(df)//10].out_mean"
   ]
  },
  {
   "cell_type": "code",
   "execution_count": 312,
   "metadata": {},
   "outputs": [],
   "source": [
    "df['summary'] = df.out_mean.map(lambda x: 1 if x >= th else 0)"
   ]
  },
  {
   "cell_type": "code",
   "execution_count": 313,
   "metadata": {},
   "outputs": [],
   "source": [
    "def get_gts(x):\n",
    "    if x == 0:\n",
    "        return 0\n",
    "    elif x == 0.5:\n",
    "        return 10\n",
    "    else:\n",
    "        return 20\n"
   ]
  },
  {
   "cell_type": "code",
   "execution_count": 314,
   "metadata": {},
   "outputs": [
    {
     "data": {
      "image/png": "[encoded data removed]",
      "text/plain": [
       "<Figure size 1080x108 with 1 Axes>"
      ]
     },
     "metadata": {},
     "output_type": "display_data"
    }
   ],
   "source": [
    "segment_bars('bwr', None, df.gts.map(lambda x: get_gts(x)).values)"
   ]
  },
  {
   "cell_type": "code",
   "execution_count": 315,
   "metadata": {},
   "outputs": [
    {
     "data": {
      "image/png": "[encoded data removed]",
      "text/plain": [
       "<Figure size 1080x108 with 1 Axes>"
      ]
     },
     "metadata": {},
     "output_type": "display_data"
    }
   ],
   "source": [
    "segment_bars('binary', None, 256 - df.summary.values*256)"
   ]
  },
  {
   "cell_type": "code",
   "execution_count": 316,
   "metadata": {},
   "outputs": [
    {
     "name": "stderr",
     "output_type": "stream",
     "text": [
      "/home/aolab/anaconda3/lib/python3.8/site-packages/IPython/core/interactiveshell.py:3165: DtypeWarning: Columns (2) have mixed types.Specify dtype option on import or set low_memory=False.\n",
      "  has_raised = await self.run_ast_nodes(code_ast.body, cell_name,\n"
     ]
    }
   ],
   "source": [
    "phase_df = pd.read_csv('/mnt/sda1/Summarization/SurgSum/result/fps_sampling=1-batch_size=128-img_size=224-out_features=6-lr=0.0001-loss_fn=ib_focal-max_epoch=20-aug_ver=1/processed_df.csv')\n",
    "phase_df = phase_df[phase_df.video_idx==3].reset_index()\n",
    "tmp = pd.concat([df, phase_df['phase']], axis=1)"
   ]
  },
  {
   "cell_type": "code",
   "execution_count": 317,
   "metadata": {},
   "outputs": [],
   "source": [
    "dic = {\n",
    "    'design': 0,\n",
    "    'anesthesia': 1,\n",
    "    'incision': 2,\n",
    "    'dissection': 3,\n",
    "    'hemostasis': 4,\n",
    "    'closure': 5,\n",
    "    'others': 6,\n",
    "}"
   ]
  },
  {
   "cell_type": "code",
   "execution_count": 318,
   "metadata": {},
   "outputs": [],
   "source": [
    "tmp['phase'] = tmp.phase.replace('irrelevant', np.nan).ffill().bfill()\n",
    "tmp['phase'] = tmp.phase.map(lambda x: dic[x]) "
   ]
  },
  {
   "cell_type": "code",
   "execution_count": 319,
   "metadata": {},
   "outputs": [
    {
     "data": {
      "text/plain": [
       "5    2162\n",
       "3     862\n",
       "6     721\n",
       "2     687\n",
       "0     421\n",
       "4      43\n",
       "Name: phase, dtype: int64"
      ]
     },
     "execution_count": 319,
     "metadata": {},
     "output_type": "execute_result"
    }
   ],
   "source": [
    "tmp.phase.value_counts()"
   ]
  },
  {
   "cell_type": "code",
   "execution_count": 320,
   "metadata": {},
   "outputs": [
    {
     "data": {
      "image/png": "[encoded data removed]",
      "text/plain": [
       "<Figure size 1080x108 with 1 Axes>"
      ]
     },
     "metadata": {},
     "output_type": "display_data"
    }
   ],
   "source": [
    "segment_bars('gist_rainbow', None, tmp.phase.values*2.5)"
   ]
  },
  {
   "cell_type": "code",
   "execution_count": 327,
   "metadata": {},
   "outputs": [
    {
     "data": {
      "text/plain": [
       "[0, 1, 2, 3, 4, 5, 6]"
      ]
     },
     "execution_count": 327,
     "metadata": {},
     "output_type": "execute_result"
    }
   ],
   "source": [
    "sorted("
   ]
  },
  {
   "cell_type": "code",
   "execution_count": 328,
   "metadata": {},
   "outputs": [
    {
     "data": {
      "image/png": "[encoded data removed]",
      "text/plain": [
       "<Figure size 1080x108 with 1 Axes>"
      ]
     },
     "metadata": {},
     "output_type": "display_data"
    }
   ],
   "source": [
    "segment_bars('gist_rainbow', None, np.array([i for i in range(7)])*2.5)"
   ]
  },
  {
   "cell_type": "code",
   "execution_count": 259,
   "metadata": {},
   "outputs": [
    {
     "data": {
      "text/html": [
       "<div>\n",
       "<style scoped>\n",
       "    .dataframe tbody tr th:only-of-type {\n",
       "        vertical-align: middle;\n",
       "    }\n",
       "\n",
       "    .dataframe tbody tr th {\n",
       "        vertical-align: top;\n",
       "    }\n",
       "\n",
       "    .dataframe thead th {\n",
       "        text-align: right;\n",
       "    }\n",
       "</style>\n",
       "<table border=\"1\" class=\"dataframe\">\n",
       "  <thead>\n",
       "    <tr style=\"text-align: right;\">\n",
       "      <th></th>\n",
       "      <th>gts</th>\n",
       "      <th>out</th>\n",
       "      <th>id</th>\n",
       "      <th>out_mean</th>\n",
       "      <th>summary</th>\n",
       "      <th>phase</th>\n",
       "    </tr>\n",
       "  </thead>\n",
       "  <tbody>\n",
       "    <tr>\n",
       "      <th>0</th>\n",
       "      <td>0.0</td>\n",
       "      <td>0.272770</td>\n",
       "      <td>0</td>\n",
       "      <td>0.135408</td>\n",
       "      <td>0</td>\n",
       "      <td>others</td>\n",
       "    </tr>\n",
       "    <tr>\n",
       "      <th>1</th>\n",
       "      <td>0.0</td>\n",
       "      <td>0.110902</td>\n",
       "      <td>0</td>\n",
       "      <td>0.135408</td>\n",
       "      <td>0</td>\n",
       "      <td>others</td>\n",
       "    </tr>\n",
       "    <tr>\n",
       "      <th>2</th>\n",
       "      <td>0.0</td>\n",
       "      <td>0.102851</td>\n",
       "      <td>0</td>\n",
       "      <td>0.135408</td>\n",
       "      <td>0</td>\n",
       "      <td>others</td>\n",
       "    </tr>\n",
       "    <tr>\n",
       "      <th>3</th>\n",
       "      <td>0.0</td>\n",
       "      <td>0.534489</td>\n",
       "      <td>0</td>\n",
       "      <td>0.135408</td>\n",
       "      <td>0</td>\n",
       "      <td>others</td>\n",
       "    </tr>\n",
       "    <tr>\n",
       "      <th>4</th>\n",
       "      <td>0.0</td>\n",
       "      <td>0.145323</td>\n",
       "      <td>0</td>\n",
       "      <td>0.135408</td>\n",
       "      <td>0</td>\n",
       "      <td>others</td>\n",
       "    </tr>\n",
       "    <tr>\n",
       "      <th>...</th>\n",
       "      <td>...</td>\n",
       "      <td>...</td>\n",
       "      <td>...</td>\n",
       "      <td>...</td>\n",
       "      <td>...</td>\n",
       "      <td>...</td>\n",
       "    </tr>\n",
       "    <tr>\n",
       "      <th>4891</th>\n",
       "      <td>0.0</td>\n",
       "      <td>0.009866</td>\n",
       "      <td>489</td>\n",
       "      <td>0.007680</td>\n",
       "      <td>0</td>\n",
       "      <td>irrelevant</td>\n",
       "    </tr>\n",
       "    <tr>\n",
       "      <th>4892</th>\n",
       "      <td>0.0</td>\n",
       "      <td>0.008232</td>\n",
       "      <td>489</td>\n",
       "      <td>0.007680</td>\n",
       "      <td>0</td>\n",
       "      <td>irrelevant</td>\n",
       "    </tr>\n",
       "    <tr>\n",
       "      <th>4893</th>\n",
       "      <td>0.0</td>\n",
       "      <td>0.008673</td>\n",
       "      <td>489</td>\n",
       "      <td>0.007680</td>\n",
       "      <td>0</td>\n",
       "      <td>irrelevant</td>\n",
       "    </tr>\n",
       "    <tr>\n",
       "      <th>4894</th>\n",
       "      <td>0.0</td>\n",
       "      <td>0.006035</td>\n",
       "      <td>489</td>\n",
       "      <td>0.007680</td>\n",
       "      <td>0</td>\n",
       "      <td>irrelevant</td>\n",
       "    </tr>\n",
       "    <tr>\n",
       "      <th>4895</th>\n",
       "      <td>0.0</td>\n",
       "      <td>0.005510</td>\n",
       "      <td>489</td>\n",
       "      <td>0.007680</td>\n",
       "      <td>0</td>\n",
       "      <td>irrelevant</td>\n",
       "    </tr>\n",
       "  </tbody>\n",
       "</table>\n",
       "<p>4896 rows × 6 columns</p>\n",
       "</div>"
      ],
      "text/plain": [
       "      gts       out   id  out_mean  summary       phase\n",
       "0     0.0  0.272770    0  0.135408        0      others\n",
       "1     0.0  0.110902    0  0.135408        0      others\n",
       "2     0.0  0.102851    0  0.135408        0      others\n",
       "3     0.0  0.534489    0  0.135408        0      others\n",
       "4     0.0  0.145323    0  0.135408        0      others\n",
       "...   ...       ...  ...       ...      ...         ...\n",
       "4891  0.0  0.009866  489  0.007680        0  irrelevant\n",
       "4892  0.0  0.008232  489  0.007680        0  irrelevant\n",
       "4893  0.0  0.008673  489  0.007680        0  irrelevant\n",
       "4894  0.0  0.006035  489  0.007680        0  irrelevant\n",
       "4895  0.0  0.005510  489  0.007680        0  irrelevant\n",
       "\n",
       "[4896 rows x 6 columns]"
      ]
     },
     "execution_count": 259,
     "metadata": {},
     "output_type": "execute_result"
    }
   ],
   "source": [
    "def get_labels(self):\n",
    "    class_labels = {}\n",
    "    for i,label in enumerate(self.df.phase.unique()):\n",
    "        class_labels[label] = i\n",
    "        if self.stage == \"train\":\n",
    "            logger.info(f\"{label}: {i}\")\n",
    "    return class_labels"
   ]
  },
  {
   "cell_type": "code",
   "execution_count": 109,
   "metadata": {},
   "outputs": [
    {
     "data": {
      "text/plain": [
       "[<matplotlib.lines.Line2D at 0x7f909d23ae20>]"
      ]
     },
     "execution_count": 109,
     "metadata": {},
     "output_type": "execute_result"
    },
    {
     "data": {
      "image/png": "[encoded data removed]",
      "text/plain": [
       "<Figure size 432x288 with 1 Axes>"
      ]
     },
     "metadata": {
      "needs_background": "light"
     },
     "output_type": "display_data"
    }
   ],
   "source": [
    "plt.plot(range(len(df.out)), df.out_mean)\n"
   ]
  },
  {
   "cell_type": "code",
   "execution_count": null,
   "metadata": {},
   "outputs": [],
   "source": []
  }
 ],
 "metadata": {
  "kernelspec": {
   "display_name": "base",
   "language": "python",
   "name": "python3"
  },
  "language_info": {
   "codemirror_mode": {
    "name": "ipython",
    "version": 3
   },
   "file_extension": ".py",
   "mimetype": "text/x-python",
   "name": "python",
   "nbconvert_exporter": "python",
   "pygments_lexer": "ipython3",
   "version": "3.8.8"
  },
  "orig_nbformat": 4,
  "vscode": {
   "interpreter": {
    "hash": "9ab3e1625478820ce8e6eab39f778c70118865cbc392bc0f6e664f6b4f52763b"
   }
  }
 },
 "nbformat": 4,
 "nbformat_minor": 2
}
