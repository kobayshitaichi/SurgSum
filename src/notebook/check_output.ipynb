{
 "cells": [
  {
   "cell_type": "code",
   "execution_count": 1,
   "metadata": {},
   "outputs": [],
   "source": [
    "import numpy as np\n",
    "import pandas as pd"
   ]
  },
  {
   "cell_type": "code",
   "execution_count": 58,
   "metadata": {},
   "outputs": [
    {
     "name": "stderr",
     "output_type": "stream",
     "text": [
      "/home/aolab/anaconda3/lib/python3.8/site-packages/IPython/core/interactiveshell.py:3165: DtypeWarning: Columns (2) have mixed types.Specify dtype option on import or set low_memory=False.\n",
      "  has_raised = await self.run_ast_nodes(code_ast.body, cell_name,\n"
     ]
    }
   ],
   "source": [
    "df = pd.read_csv('/mnt/sda1/Summarization/SurgSum/result/fps_sampling=1-batch_size=128-img_size=224-out_features=6-lr=0.0001-loss_fn=ib_focal-max_epoch=20-aug_ver=1/processed_df.csv')"
   ]
  },
  {
   "cell_type": "code",
   "execution_count": 59,
   "metadata": {},
   "outputs": [
    {
     "data": {
      "text/html": [
       "<div>\n",
       "<style scoped>\n",
       "    .dataframe tbody tr th:only-of-type {\n",
       "        vertical-align: middle;\n",
       "    }\n",
       "\n",
       "    .dataframe tbody tr th {\n",
       "        vertical-align: top;\n",
       "    }\n",
       "\n",
       "    .dataframe thead th {\n",
       "        text-align: right;\n",
       "    }\n",
       "</style>\n",
       "<table border=\"1\" class=\"dataframe\">\n",
       "  <thead>\n",
       "    <tr style=\"text-align: right;\">\n",
       "      <th></th>\n",
       "      <th>Frame</th>\n",
       "      <th>time</th>\n",
       "      <th>field</th>\n",
       "      <th>phase</th>\n",
       "      <th>summary</th>\n",
       "      <th>video_idx</th>\n",
       "      <th>file_name</th>\n",
       "      <th>stage</th>\n",
       "      <th>y</th>\n",
       "    </tr>\n",
       "  </thead>\n",
       "  <tbody>\n",
       "    <tr>\n",
       "      <th>0</th>\n",
       "      <td>0</td>\n",
       "      <td>0:00:00.00</td>\n",
       "      <td>False</td>\n",
       "      <td>irrelevant</td>\n",
       "      <td>0.0</td>\n",
       "      <td>0</td>\n",
       "      <td>video00_000001.png</td>\n",
       "      <td>train</td>\n",
       "      <td>1</td>\n",
       "    </tr>\n",
       "    <tr>\n",
       "      <th>1</th>\n",
       "      <td>30</td>\n",
       "      <td>0:00:01.00</td>\n",
       "      <td>False</td>\n",
       "      <td>irrelevant</td>\n",
       "      <td>-1.0</td>\n",
       "      <td>0</td>\n",
       "      <td>video00_000031.png</td>\n",
       "      <td>train</td>\n",
       "      <td>1</td>\n",
       "    </tr>\n",
       "    <tr>\n",
       "      <th>2</th>\n",
       "      <td>60</td>\n",
       "      <td>0:00:02.00</td>\n",
       "      <td>False</td>\n",
       "      <td>irrelevant</td>\n",
       "      <td>-1.0</td>\n",
       "      <td>0</td>\n",
       "      <td>video00_000061.png</td>\n",
       "      <td>train</td>\n",
       "      <td>1</td>\n",
       "    </tr>\n",
       "    <tr>\n",
       "      <th>3</th>\n",
       "      <td>90</td>\n",
       "      <td>0:00:03.00</td>\n",
       "      <td>False</td>\n",
       "      <td>irrelevant</td>\n",
       "      <td>-1.0</td>\n",
       "      <td>0</td>\n",
       "      <td>video00_000091.png</td>\n",
       "      <td>train</td>\n",
       "      <td>1</td>\n",
       "    </tr>\n",
       "    <tr>\n",
       "      <th>4</th>\n",
       "      <td>120</td>\n",
       "      <td>0:00:04.00</td>\n",
       "      <td>False</td>\n",
       "      <td>irrelevant</td>\n",
       "      <td>-1.0</td>\n",
       "      <td>0</td>\n",
       "      <td>video00_000121.png</td>\n",
       "      <td>train</td>\n",
       "      <td>1</td>\n",
       "    </tr>\n",
       "    <tr>\n",
       "      <th>...</th>\n",
       "      <td>...</td>\n",
       "      <td>...</td>\n",
       "      <td>...</td>\n",
       "      <td>...</td>\n",
       "      <td>...</td>\n",
       "      <td>...</td>\n",
       "      <td>...</td>\n",
       "      <td>...</td>\n",
       "      <td>...</td>\n",
       "    </tr>\n",
       "    <tr>\n",
       "      <th>73228</th>\n",
       "      <td>170400</td>\n",
       "      <td>1:34:40.00</td>\n",
       "      <td>NaN</td>\n",
       "      <td>closure</td>\n",
       "      <td>NaN</td>\n",
       "      <td>15</td>\n",
       "      <td>video15_170401.png</td>\n",
       "      <td>train</td>\n",
       "      <td>1</td>\n",
       "    </tr>\n",
       "    <tr>\n",
       "      <th>73229</th>\n",
       "      <td>170430</td>\n",
       "      <td>1:34:41.00</td>\n",
       "      <td>NaN</td>\n",
       "      <td>closure</td>\n",
       "      <td>NaN</td>\n",
       "      <td>15</td>\n",
       "      <td>video15_170431.png</td>\n",
       "      <td>train</td>\n",
       "      <td>1</td>\n",
       "    </tr>\n",
       "    <tr>\n",
       "      <th>73230</th>\n",
       "      <td>170460</td>\n",
       "      <td>1:34:42.00</td>\n",
       "      <td>NaN</td>\n",
       "      <td>closure</td>\n",
       "      <td>NaN</td>\n",
       "      <td>15</td>\n",
       "      <td>video15_170461.png</td>\n",
       "      <td>train</td>\n",
       "      <td>1</td>\n",
       "    </tr>\n",
       "    <tr>\n",
       "      <th>73231</th>\n",
       "      <td>170490</td>\n",
       "      <td>1:34:43.00</td>\n",
       "      <td>NaN</td>\n",
       "      <td>closure</td>\n",
       "      <td>NaN</td>\n",
       "      <td>15</td>\n",
       "      <td>video15_170491.png</td>\n",
       "      <td>train</td>\n",
       "      <td>1</td>\n",
       "    </tr>\n",
       "    <tr>\n",
       "      <th>73232</th>\n",
       "      <td>170520</td>\n",
       "      <td>1:34:44.00</td>\n",
       "      <td>NaN</td>\n",
       "      <td>closure</td>\n",
       "      <td>NaN</td>\n",
       "      <td>15</td>\n",
       "      <td>video15_170521.png</td>\n",
       "      <td>train</td>\n",
       "      <td>1</td>\n",
       "    </tr>\n",
       "  </tbody>\n",
       "</table>\n",
       "<p>73233 rows × 9 columns</p>\n",
       "</div>"
      ],
      "text/plain": [
       "        Frame        time  field       phase  summary  video_idx  \\\n",
       "0           0  0:00:00.00  False  irrelevant      0.0          0   \n",
       "1          30  0:00:01.00  False  irrelevant     -1.0          0   \n",
       "2          60  0:00:02.00  False  irrelevant     -1.0          0   \n",
       "3          90  0:00:03.00  False  irrelevant     -1.0          0   \n",
       "4         120  0:00:04.00  False  irrelevant     -1.0          0   \n",
       "...       ...         ...    ...         ...      ...        ...   \n",
       "73228  170400  1:34:40.00    NaN     closure      NaN         15   \n",
       "73229  170430  1:34:41.00    NaN     closure      NaN         15   \n",
       "73230  170460  1:34:42.00    NaN     closure      NaN         15   \n",
       "73231  170490  1:34:43.00    NaN     closure      NaN         15   \n",
       "73232  170520  1:34:44.00    NaN     closure      NaN         15   \n",
       "\n",
       "                file_name  stage  y  \n",
       "0      video00_000001.png  train  1  \n",
       "1      video00_000031.png  train  1  \n",
       "2      video00_000061.png  train  1  \n",
       "3      video00_000091.png  train  1  \n",
       "4      video00_000121.png  train  1  \n",
       "...                   ...    ... ..  \n",
       "73228  video15_170401.png  train  1  \n",
       "73229  video15_170431.png  train  1  \n",
       "73230  video15_170461.png  train  1  \n",
       "73231  video15_170491.png  train  1  \n",
       "73232  video15_170521.png  train  1  \n",
       "\n",
       "[73233 rows x 9 columns]"
      ]
     },
     "execution_count": 59,
     "metadata": {},
     "output_type": "execute_result"
    }
   ],
   "source": [
    "df = "
   ]
  },
  {
   "cell_type": "code",
   "execution_count": 60,
   "metadata": {},
   "outputs": [],
   "source": [
    "preds = np.load('/mnt/sda1/Summarization/SurgSum/result/fps_sampling=1-batch_size=128-img_size=224-out_features=6-lr=0.0001-loss_fn=ib_focal-max_epoch=20-aug_ver=1/preds.npy')"
   ]
  },
  {
   "cell_type": "code",
   "execution_count": 63,
   "metadata": {},
   "outputs": [
    {
     "data": {
      "text/plain": [
       "5.0"
      ]
     },
     "execution_count": 63,
     "metadata": {},
     "output_type": "execute_result"
    }
   ],
   "source": [
    "preds[0]"
   ]
  },
  {
   "cell_type": "code",
   "execution_count": 36,
   "metadata": {},
   "outputs": [],
   "source": [
    "features = np.load('/mnt/sda1/Summarization/SurgSum/result/fps_sampling=1-batch_size=128-img_size=224-out_features=6-lr=0.0001-loss_fn=ib_focal-max_epoch=20-aug_ver=1/features.npy')"
   ]
  },
  {
   "cell_type": "code",
   "execution_count": 37,
   "metadata": {},
   "outputs": [
    {
     "data": {
      "text/plain": [
       "(61863, 2048)"
      ]
     },
     "execution_count": 37,
     "metadata": {},
     "output_type": "execute_result"
    }
   ],
   "source": [
    "features.shape"
   ]
  },
  {
   "cell_type": "code",
   "execution_count": 38,
   "metadata": {},
   "outputs": [],
   "source": [
    "gts = df.y.values"
   ]
  },
  {
   "cell_type": "code",
   "execution_count": 16,
   "metadata": {},
   "outputs": [
    {
     "data": {
      "text/plain": [
       "(61863,)"
      ]
     },
     "execution_count": 16,
     "metadata": {},
     "output_type": "execute_result"
    }
   ],
   "source": [
    "gts.shape"
   ]
  },
  {
   "cell_type": "code",
   "execution_count": 42,
   "metadata": {},
   "outputs": [
    {
     "data": {
      "text/plain": [
       "3457"
      ]
     },
     "execution_count": 42,
     "metadata": {},
     "output_type": "execute_result"
    }
   ],
   "source": [
    "len(df[df.video_idx==0])"
   ]
  },
  {
   "cell_type": "code",
   "execution_count": 45,
   "metadata": {},
   "outputs": [],
   "source": [
    "tmp = gts[df[df.video_idx==0].index[0]:len(df[df.video_idx==0])]"
   ]
  },
  {
   "cell_type": "code",
   "execution_count": 57,
   "metadata": {},
   "outputs": [
    {
     "data": {
      "text/plain": [
       "array([0, 0, 0, ..., 5, 5, 5])"
      ]
     },
     "execution_count": 57,
     "metadata": {},
     "output_type": "execute_result"
    }
   ],
   "source": []
  },
  {
   "cell_type": "code",
   "execution_count": 46,
   "metadata": {},
   "outputs": [
    {
     "data": {
      "text/plain": [
       "3457"
      ]
     },
     "execution_count": 46,
     "metadata": {},
     "output_type": "execute_result"
    }
   ],
   "source": [
    "len(tmp)"
   ]
  },
  {
   "cell_type": "code",
   "execution_count": null,
   "metadata": {},
   "outputs": [],
   "source": []
  }
 ],
 "metadata": {
  "kernelspec": {
   "display_name": "Python 3.8.8 ('base')",
   "language": "python",
   "name": "python3"
  },
  "language_info": {
   "codemirror_mode": {
    "name": "ipython",
    "version": 3
   },
   "file_extension": ".py",
   "mimetype": "text/x-python",
   "name": "python",
   "nbconvert_exporter": "python",
   "pygments_lexer": "ipython3",
   "version": "3.8.8"
  },
  "orig_nbformat": 4,
  "vscode": {
   "interpreter": {
    "hash": "9ab3e1625478820ce8e6eab39f778c70118865cbc392bc0f6e664f6b4f52763b"
   }
  }
 },
 "nbformat": 4,
 "nbformat_minor": 2
}
