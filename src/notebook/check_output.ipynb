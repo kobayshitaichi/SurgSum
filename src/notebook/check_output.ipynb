{
 "cells": [
  {
   "cell_type": "code",
   "execution_count": 1,
   "metadata": {},
   "outputs": [],
   "source": [
    "import numpy as np\n",
    "import pandas as pd"
   ]
  },
  {
   "cell_type": "code",
   "execution_count": 31,
   "metadata": {},
   "outputs": [],
   "source": [
    "df = pd.read_csv('/mnt/sda1/Summarization/SurgSum/result/fps_sampling=1-batch_size=128-img_size=224-out_features=6-lr=0.0001-loss_fn=ib_focal-max_epoch=20-aug_ver=1/processed_df.csv')"
   ]
  },
  {
   "cell_type": "code",
   "execution_count": 33,
   "metadata": {},
   "outputs": [
    {
     "data": {
      "text/html": [
       "<div>\n",
       "<style scoped>\n",
       "    .dataframe tbody tr th:only-of-type {\n",
       "        vertical-align: middle;\n",
       "    }\n",
       "\n",
       "    .dataframe tbody tr th {\n",
       "        vertical-align: top;\n",
       "    }\n",
       "\n",
       "    .dataframe thead th {\n",
       "        text-align: right;\n",
       "    }\n",
       "</style>\n",
       "<table border=\"1\" class=\"dataframe\">\n",
       "  <thead>\n",
       "    <tr style=\"text-align: right;\">\n",
       "      <th></th>\n",
       "      <th>Frame</th>\n",
       "      <th>time</th>\n",
       "      <th>field</th>\n",
       "      <th>phase</th>\n",
       "      <th>summary</th>\n",
       "      <th>video_idx</th>\n",
       "      <th>file_name</th>\n",
       "      <th>stage</th>\n",
       "      <th>y</th>\n",
       "    </tr>\n",
       "  </thead>\n",
       "  <tbody>\n",
       "    <tr>\n",
       "      <th>0</th>\n",
       "      <td>3330</td>\n",
       "      <td>0:01:51.00</td>\n",
       "      <td>True</td>\n",
       "      <td>design</td>\n",
       "      <td>0.0</td>\n",
       "      <td>0</td>\n",
       "      <td>video00_003331.png</td>\n",
       "      <td>train</td>\n",
       "      <td>0</td>\n",
       "    </tr>\n",
       "    <tr>\n",
       "      <th>1</th>\n",
       "      <td>3360</td>\n",
       "      <td>0:01:52.00</td>\n",
       "      <td>True</td>\n",
       "      <td>design</td>\n",
       "      <td>0.0</td>\n",
       "      <td>0</td>\n",
       "      <td>video00_003361.png</td>\n",
       "      <td>train</td>\n",
       "      <td>0</td>\n",
       "    </tr>\n",
       "    <tr>\n",
       "      <th>2</th>\n",
       "      <td>3390</td>\n",
       "      <td>0:01:53.00</td>\n",
       "      <td>True</td>\n",
       "      <td>design</td>\n",
       "      <td>0.0</td>\n",
       "      <td>0</td>\n",
       "      <td>video00_003391.png</td>\n",
       "      <td>train</td>\n",
       "      <td>0</td>\n",
       "    </tr>\n",
       "    <tr>\n",
       "      <th>3</th>\n",
       "      <td>3420</td>\n",
       "      <td>0:01:54.00</td>\n",
       "      <td>True</td>\n",
       "      <td>design</td>\n",
       "      <td>0.0</td>\n",
       "      <td>0</td>\n",
       "      <td>video00_003421.png</td>\n",
       "      <td>train</td>\n",
       "      <td>0</td>\n",
       "    </tr>\n",
       "    <tr>\n",
       "      <th>4</th>\n",
       "      <td>3450</td>\n",
       "      <td>0:01:55.00</td>\n",
       "      <td>True</td>\n",
       "      <td>design</td>\n",
       "      <td>0.0</td>\n",
       "      <td>0</td>\n",
       "      <td>video00_003451.png</td>\n",
       "      <td>train</td>\n",
       "      <td>0</td>\n",
       "    </tr>\n",
       "    <tr>\n",
       "      <th>...</th>\n",
       "      <td>...</td>\n",
       "      <td>...</td>\n",
       "      <td>...</td>\n",
       "      <td>...</td>\n",
       "      <td>...</td>\n",
       "      <td>...</td>\n",
       "      <td>...</td>\n",
       "      <td>...</td>\n",
       "      <td>...</td>\n",
       "    </tr>\n",
       "    <tr>\n",
       "      <th>61858</th>\n",
       "      <td>170400</td>\n",
       "      <td>1:34:40.00</td>\n",
       "      <td>NaN</td>\n",
       "      <td>closure</td>\n",
       "      <td>NaN</td>\n",
       "      <td>15</td>\n",
       "      <td>video15_170401.png</td>\n",
       "      <td>train</td>\n",
       "      <td>5</td>\n",
       "    </tr>\n",
       "    <tr>\n",
       "      <th>61859</th>\n",
       "      <td>170430</td>\n",
       "      <td>1:34:41.00</td>\n",
       "      <td>NaN</td>\n",
       "      <td>closure</td>\n",
       "      <td>NaN</td>\n",
       "      <td>15</td>\n",
       "      <td>video15_170431.png</td>\n",
       "      <td>train</td>\n",
       "      <td>5</td>\n",
       "    </tr>\n",
       "    <tr>\n",
       "      <th>61860</th>\n",
       "      <td>170460</td>\n",
       "      <td>1:34:42.00</td>\n",
       "      <td>NaN</td>\n",
       "      <td>closure</td>\n",
       "      <td>NaN</td>\n",
       "      <td>15</td>\n",
       "      <td>video15_170461.png</td>\n",
       "      <td>train</td>\n",
       "      <td>5</td>\n",
       "    </tr>\n",
       "    <tr>\n",
       "      <th>61861</th>\n",
       "      <td>170490</td>\n",
       "      <td>1:34:43.00</td>\n",
       "      <td>NaN</td>\n",
       "      <td>closure</td>\n",
       "      <td>NaN</td>\n",
       "      <td>15</td>\n",
       "      <td>video15_170491.png</td>\n",
       "      <td>train</td>\n",
       "      <td>5</td>\n",
       "    </tr>\n",
       "    <tr>\n",
       "      <th>61862</th>\n",
       "      <td>170520</td>\n",
       "      <td>1:34:44.00</td>\n",
       "      <td>NaN</td>\n",
       "      <td>closure</td>\n",
       "      <td>NaN</td>\n",
       "      <td>15</td>\n",
       "      <td>video15_170521.png</td>\n",
       "      <td>train</td>\n",
       "      <td>5</td>\n",
       "    </tr>\n",
       "  </tbody>\n",
       "</table>\n",
       "<p>61863 rows × 9 columns</p>\n",
       "</div>"
      ],
      "text/plain": [
       "        Frame        time field    phase  summary  video_idx  \\\n",
       "0        3330  0:01:51.00  True   design      0.0          0   \n",
       "1        3360  0:01:52.00  True   design      0.0          0   \n",
       "2        3390  0:01:53.00  True   design      0.0          0   \n",
       "3        3420  0:01:54.00  True   design      0.0          0   \n",
       "4        3450  0:01:55.00  True   design      0.0          0   \n",
       "...       ...         ...   ...      ...      ...        ...   \n",
       "61858  170400  1:34:40.00   NaN  closure      NaN         15   \n",
       "61859  170430  1:34:41.00   NaN  closure      NaN         15   \n",
       "61860  170460  1:34:42.00   NaN  closure      NaN         15   \n",
       "61861  170490  1:34:43.00   NaN  closure      NaN         15   \n",
       "61862  170520  1:34:44.00   NaN  closure      NaN         15   \n",
       "\n",
       "                file_name  stage  y  \n",
       "0      video00_003331.png  train  0  \n",
       "1      video00_003361.png  train  0  \n",
       "2      video00_003391.png  train  0  \n",
       "3      video00_003421.png  train  0  \n",
       "4      video00_003451.png  train  0  \n",
       "...                   ...    ... ..  \n",
       "61858  video15_170401.png  train  5  \n",
       "61859  video15_170431.png  train  5  \n",
       "61860  video15_170461.png  train  5  \n",
       "61861  video15_170491.png  train  5  \n",
       "61862  video15_170521.png  train  5  \n",
       "\n",
       "[61863 rows x 9 columns]"
      ]
     },
     "execution_count": 33,
     "metadata": {},
     "output_type": "execute_result"
    }
   ],
   "source": [
    "df"
   ]
  },
  {
   "cell_type": "code",
   "execution_count": 34,
   "metadata": {},
   "outputs": [],
   "source": [
    "preds = np.load('/mnt/sda1/Summarization/SurgSum/result/fps_sampling=1-batch_size=128-img_size=224-out_features=6-lr=0.0001-loss_fn=ib_focal-max_epoch=20-aug_ver=1/preds.npy')"
   ]
  },
  {
   "cell_type": "code",
   "execution_count": 35,
   "metadata": {},
   "outputs": [
    {
     "data": {
      "text/plain": [
       "(61863,)"
      ]
     },
     "execution_count": 35,
     "metadata": {},
     "output_type": "execute_result"
    }
   ],
   "source": [
    "preds.shape"
   ]
  },
  {
   "cell_type": "code",
   "execution_count": 36,
   "metadata": {},
   "outputs": [],
   "source": [
    "features = np.load('/mnt/sda1/Summarization/SurgSum/result/fps_sampling=1-batch_size=128-img_size=224-out_features=6-lr=0.0001-loss_fn=ib_focal-max_epoch=20-aug_ver=1/features.npy')"
   ]
  },
  {
   "cell_type": "code",
   "execution_count": 37,
   "metadata": {},
   "outputs": [
    {
     "data": {
      "text/plain": [
       "(61863, 2048)"
      ]
     },
     "execution_count": 37,
     "metadata": {},
     "output_type": "execute_result"
    }
   ],
   "source": [
    "features.shape"
   ]
  },
  {
   "cell_type": "code",
   "execution_count": 38,
   "metadata": {},
   "outputs": [],
   "source": [
    "gts = df.y.values"
   ]
  },
  {
   "cell_type": "code",
   "execution_count": 16,
   "metadata": {},
   "outputs": [
    {
     "data": {
      "text/plain": [
       "(61863,)"
      ]
     },
     "execution_count": 16,
     "metadata": {},
     "output_type": "execute_result"
    }
   ],
   "source": [
    "gts.shape"
   ]
  },
  {
   "cell_type": "code",
   "execution_count": 42,
   "metadata": {},
   "outputs": [
    {
     "data": {
      "text/plain": [
       "3457"
      ]
     },
     "execution_count": 42,
     "metadata": {},
     "output_type": "execute_result"
    }
   ],
   "source": [
    "len(df[df.video_idx==0])"
   ]
  },
  {
   "cell_type": "code",
   "execution_count": 45,
   "metadata": {},
   "outputs": [],
   "source": [
    "tmp = gts[df[df.video_idx==0].index[0]:len(df[df.video_idx==0])]"
   ]
  },
  {
   "cell_type": "code",
   "execution_count": 50,
   "metadata": {},
   "outputs": [
    {
     "data": {
      "text/html": [
       "<div>\n",
       "<style scoped>\n",
       "    .dataframe tbody tr th:only-of-type {\n",
       "        vertical-align: middle;\n",
       "    }\n",
       "\n",
       "    .dataframe tbody tr th {\n",
       "        vertical-align: top;\n",
       "    }\n",
       "\n",
       "    .dataframe thead th {\n",
       "        text-align: right;\n",
       "    }\n",
       "</style>\n",
       "<table border=\"1\" class=\"dataframe\">\n",
       "  <thead>\n",
       "    <tr style=\"text-align: right;\">\n",
       "      <th></th>\n",
       "      <th>Frame</th>\n",
       "      <th>time</th>\n",
       "      <th>field</th>\n",
       "      <th>phase</th>\n",
       "      <th>summary</th>\n",
       "      <th>video_idx</th>\n",
       "      <th>file_name</th>\n",
       "      <th>stage</th>\n",
       "      <th>y</th>\n",
       "    </tr>\n",
       "  </thead>\n",
       "  <tbody>\n",
       "    <tr>\n",
       "      <th>0</th>\n",
       "      <td>3330</td>\n",
       "      <td>0:01:51.00</td>\n",
       "      <td>True</td>\n",
       "      <td>design</td>\n",
       "      <td>0.0</td>\n",
       "      <td>0</td>\n",
       "      <td>video00_003331.png</td>\n",
       "      <td>train</td>\n",
       "      <td>0</td>\n",
       "    </tr>\n",
       "    <tr>\n",
       "      <th>1</th>\n",
       "      <td>3360</td>\n",
       "      <td>0:01:52.00</td>\n",
       "      <td>True</td>\n",
       "      <td>design</td>\n",
       "      <td>0.0</td>\n",
       "      <td>0</td>\n",
       "      <td>video00_003361.png</td>\n",
       "      <td>train</td>\n",
       "      <td>0</td>\n",
       "    </tr>\n",
       "    <tr>\n",
       "      <th>2</th>\n",
       "      <td>3390</td>\n",
       "      <td>0:01:53.00</td>\n",
       "      <td>True</td>\n",
       "      <td>design</td>\n",
       "      <td>0.0</td>\n",
       "      <td>0</td>\n",
       "      <td>video00_003391.png</td>\n",
       "      <td>train</td>\n",
       "      <td>0</td>\n",
       "    </tr>\n",
       "    <tr>\n",
       "      <th>3</th>\n",
       "      <td>3420</td>\n",
       "      <td>0:01:54.00</td>\n",
       "      <td>True</td>\n",
       "      <td>design</td>\n",
       "      <td>0.0</td>\n",
       "      <td>0</td>\n",
       "      <td>video00_003421.png</td>\n",
       "      <td>train</td>\n",
       "      <td>0</td>\n",
       "    </tr>\n",
       "    <tr>\n",
       "      <th>4</th>\n",
       "      <td>3450</td>\n",
       "      <td>0:01:55.00</td>\n",
       "      <td>True</td>\n",
       "      <td>design</td>\n",
       "      <td>0.0</td>\n",
       "      <td>0</td>\n",
       "      <td>video00_003451.png</td>\n",
       "      <td>train</td>\n",
       "      <td>0</td>\n",
       "    </tr>\n",
       "    <tr>\n",
       "      <th>...</th>\n",
       "      <td>...</td>\n",
       "      <td>...</td>\n",
       "      <td>...</td>\n",
       "      <td>...</td>\n",
       "      <td>...</td>\n",
       "      <td>...</td>\n",
       "      <td>...</td>\n",
       "      <td>...</td>\n",
       "      <td>...</td>\n",
       "    </tr>\n",
       "    <tr>\n",
       "      <th>3452</th>\n",
       "      <td>131430</td>\n",
       "      <td>1:13:01.00</td>\n",
       "      <td>True</td>\n",
       "      <td>closure</td>\n",
       "      <td>0.0</td>\n",
       "      <td>0</td>\n",
       "      <td>video00_131432.png</td>\n",
       "      <td>train</td>\n",
       "      <td>5</td>\n",
       "    </tr>\n",
       "    <tr>\n",
       "      <th>3453</th>\n",
       "      <td>131460</td>\n",
       "      <td>1:13:02.00</td>\n",
       "      <td>True</td>\n",
       "      <td>closure</td>\n",
       "      <td>0.0</td>\n",
       "      <td>0</td>\n",
       "      <td>video00_131462.png</td>\n",
       "      <td>train</td>\n",
       "      <td>5</td>\n",
       "    </tr>\n",
       "    <tr>\n",
       "      <th>3454</th>\n",
       "      <td>131490</td>\n",
       "      <td>1:13:03.00</td>\n",
       "      <td>True</td>\n",
       "      <td>closure</td>\n",
       "      <td>0.0</td>\n",
       "      <td>0</td>\n",
       "      <td>video00_131492.png</td>\n",
       "      <td>train</td>\n",
       "      <td>5</td>\n",
       "    </tr>\n",
       "    <tr>\n",
       "      <th>3455</th>\n",
       "      <td>131520</td>\n",
       "      <td>1:13:04.00</td>\n",
       "      <td>True</td>\n",
       "      <td>closure</td>\n",
       "      <td>0.0</td>\n",
       "      <td>0</td>\n",
       "      <td>video00_131522.png</td>\n",
       "      <td>train</td>\n",
       "      <td>5</td>\n",
       "    </tr>\n",
       "    <tr>\n",
       "      <th>3456</th>\n",
       "      <td>131550</td>\n",
       "      <td>1:13:05.00</td>\n",
       "      <td>True</td>\n",
       "      <td>closure</td>\n",
       "      <td>0.0</td>\n",
       "      <td>0</td>\n",
       "      <td>video00_131552.png</td>\n",
       "      <td>train</td>\n",
       "      <td>5</td>\n",
       "    </tr>\n",
       "  </tbody>\n",
       "</table>\n",
       "<p>3457 rows × 9 columns</p>\n",
       "</div>"
      ],
      "text/plain": [
       "       Frame        time field    phase  summary  video_idx  \\\n",
       "0       3330  0:01:51.00  True   design      0.0          0   \n",
       "1       3360  0:01:52.00  True   design      0.0          0   \n",
       "2       3390  0:01:53.00  True   design      0.0          0   \n",
       "3       3420  0:01:54.00  True   design      0.0          0   \n",
       "4       3450  0:01:55.00  True   design      0.0          0   \n",
       "...      ...         ...   ...      ...      ...        ...   \n",
       "3452  131430  1:13:01.00  True  closure      0.0          0   \n",
       "3453  131460  1:13:02.00  True  closure      0.0          0   \n",
       "3454  131490  1:13:03.00  True  closure      0.0          0   \n",
       "3455  131520  1:13:04.00  True  closure      0.0          0   \n",
       "3456  131550  1:13:05.00  True  closure      0.0          0   \n",
       "\n",
       "               file_name  stage  y  \n",
       "0     video00_003331.png  train  0  \n",
       "1     video00_003361.png  train  0  \n",
       "2     video00_003391.png  train  0  \n",
       "3     video00_003421.png  train  0  \n",
       "4     video00_003451.png  train  0  \n",
       "...                  ...    ... ..  \n",
       "3452  video00_131432.png  train  5  \n",
       "3453  video00_131462.png  train  5  \n",
       "3454  video00_131492.png  train  5  \n",
       "3455  video00_131522.png  train  5  \n",
       "3456  video00_131552.png  train  5  \n",
       "\n",
       "[3457 rows x 9 columns]"
      ]
     },
     "execution_count": 50,
     "metadata": {},
     "output_type": "execute_result"
    }
   ],
   "source": [
    "df[df.video_idx==0]"
   ]
  },
  {
   "cell_type": "code",
   "execution_count": 46,
   "metadata": {},
   "outputs": [
    {
     "data": {
      "text/plain": [
       "3457"
      ]
     },
     "execution_count": 46,
     "metadata": {},
     "output_type": "execute_result"
    }
   ],
   "source": [
    "len(tmp)"
   ]
  },
  {
   "cell_type": "code",
   "execution_count": null,
   "metadata": {},
   "outputs": [],
   "source": []
  }
 ],
 "metadata": {
  "kernelspec": {
   "display_name": "Python 3.8.8 ('base')",
   "language": "python",
   "name": "python3"
  },
  "language_info": {
   "codemirror_mode": {
    "name": "ipython",
    "version": 3
   },
   "file_extension": ".py",
   "mimetype": "text/x-python",
   "name": "python",
   "nbconvert_exporter": "python",
   "pygments_lexer": "ipython3",
   "version": "3.8.8"
  },
  "orig_nbformat": 4,
  "vscode": {
   "interpreter": {
    "hash": "9ab3e1625478820ce8e6eab39f778c70118865cbc392bc0f6e664f6b4f52763b"
   }
  }
 },
 "nbformat": 4,
 "nbformat_minor": 2
}
